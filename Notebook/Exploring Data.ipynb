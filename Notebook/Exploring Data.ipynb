{
 "cells": [
  {
   "cell_type": "markdown",
   "id": "a28e3049",
   "metadata": {},
   "source": [
    "# Performing Initial Analysis on the dataset to understand the data"
   ]
  },
  {
   "cell_type": "code",
   "execution_count": 105,
   "id": "6c1a0b97",
   "metadata": {},
   "outputs": [],
   "source": [
    "import pandas as pd \n",
    "import numpy as np\n",
    "import matplotlib.pyplot as plt \n",
    "import seaborn as sns \n",
    "import os\n",
    "%matplotlib inline"
   ]
  },
  {
   "cell_type": "code",
   "execution_count": 106,
   "id": "404c4c4a",
   "metadata": {},
   "outputs": [],
   "source": [
    "## Importing the given data set \n",
    "path = os.path.join(\"D:\\FSDS PROJECT\\Project3_\\Data_Train.xlsx\")\n",
    "data = pd.read_excel(path)"
   ]
  },
  {
   "cell_type": "code",
   "execution_count": 47,
   "id": "2b628a4e",
   "metadata": {},
   "outputs": [
    {
     "data": {
      "text/html": [
       "<div>\n",
       "<style scoped>\n",
       "    .dataframe tbody tr th:only-of-type {\n",
       "        vertical-align: middle;\n",
       "    }\n",
       "\n",
       "    .dataframe tbody tr th {\n",
       "        vertical-align: top;\n",
       "    }\n",
       "\n",
       "    .dataframe thead th {\n",
       "        text-align: right;\n",
       "    }\n",
       "</style>\n",
       "<table border=\"1\" class=\"dataframe\">\n",
       "  <thead>\n",
       "    <tr style=\"text-align: right;\">\n",
       "      <th></th>\n",
       "      <th>Airline</th>\n",
       "      <th>Date_of_Journey</th>\n",
       "      <th>Source</th>\n",
       "      <th>Destination</th>\n",
       "      <th>Route</th>\n",
       "      <th>Dep_Time</th>\n",
       "      <th>Arrival_Time</th>\n",
       "      <th>Duration</th>\n",
       "      <th>Total_Stops</th>\n",
       "      <th>Additional_Info</th>\n",
       "      <th>Price</th>\n",
       "    </tr>\n",
       "  </thead>\n",
       "  <tbody>\n",
       "    <tr>\n",
       "      <th>0</th>\n",
       "      <td>IndiGo</td>\n",
       "      <td>24/03/2019</td>\n",
       "      <td>Banglore</td>\n",
       "      <td>New Delhi</td>\n",
       "      <td>BLR → DEL</td>\n",
       "      <td>22:20</td>\n",
       "      <td>01:10 22 Mar</td>\n",
       "      <td>2h 50m</td>\n",
       "      <td>non-stop</td>\n",
       "      <td>No info</td>\n",
       "      <td>3897</td>\n",
       "    </tr>\n",
       "    <tr>\n",
       "      <th>1</th>\n",
       "      <td>Air India</td>\n",
       "      <td>1/05/2019</td>\n",
       "      <td>Kolkata</td>\n",
       "      <td>Banglore</td>\n",
       "      <td>CCU → IXR → BBI → BLR</td>\n",
       "      <td>05:50</td>\n",
       "      <td>13:15</td>\n",
       "      <td>7h 25m</td>\n",
       "      <td>2 stops</td>\n",
       "      <td>No info</td>\n",
       "      <td>7662</td>\n",
       "    </tr>\n",
       "    <tr>\n",
       "      <th>2</th>\n",
       "      <td>Jet Airways</td>\n",
       "      <td>9/06/2019</td>\n",
       "      <td>Delhi</td>\n",
       "      <td>Cochin</td>\n",
       "      <td>DEL → LKO → BOM → COK</td>\n",
       "      <td>09:25</td>\n",
       "      <td>04:25 10 Jun</td>\n",
       "      <td>19h</td>\n",
       "      <td>2 stops</td>\n",
       "      <td>No info</td>\n",
       "      <td>13882</td>\n",
       "    </tr>\n",
       "    <tr>\n",
       "      <th>3</th>\n",
       "      <td>IndiGo</td>\n",
       "      <td>12/05/2019</td>\n",
       "      <td>Kolkata</td>\n",
       "      <td>Banglore</td>\n",
       "      <td>CCU → NAG → BLR</td>\n",
       "      <td>18:05</td>\n",
       "      <td>23:30</td>\n",
       "      <td>5h 25m</td>\n",
       "      <td>1 stop</td>\n",
       "      <td>No info</td>\n",
       "      <td>6218</td>\n",
       "    </tr>\n",
       "    <tr>\n",
       "      <th>4</th>\n",
       "      <td>IndiGo</td>\n",
       "      <td>01/03/2019</td>\n",
       "      <td>Banglore</td>\n",
       "      <td>New Delhi</td>\n",
       "      <td>BLR → NAG → DEL</td>\n",
       "      <td>16:50</td>\n",
       "      <td>21:35</td>\n",
       "      <td>4h 45m</td>\n",
       "      <td>1 stop</td>\n",
       "      <td>No info</td>\n",
       "      <td>13302</td>\n",
       "    </tr>\n",
       "  </tbody>\n",
       "</table>\n",
       "</div>"
      ],
      "text/plain": [
       "       Airline Date_of_Journey    Source Destination                  Route  \\\n",
       "0       IndiGo      24/03/2019  Banglore   New Delhi              BLR → DEL   \n",
       "1    Air India       1/05/2019   Kolkata    Banglore  CCU → IXR → BBI → BLR   \n",
       "2  Jet Airways       9/06/2019     Delhi      Cochin  DEL → LKO → BOM → COK   \n",
       "3       IndiGo      12/05/2019   Kolkata    Banglore        CCU → NAG → BLR   \n",
       "4       IndiGo      01/03/2019  Banglore   New Delhi        BLR → NAG → DEL   \n",
       "\n",
       "  Dep_Time  Arrival_Time Duration Total_Stops Additional_Info  Price  \n",
       "0    22:20  01:10 22 Mar   2h 50m    non-stop         No info   3897  \n",
       "1    05:50         13:15   7h 25m     2 stops         No info   7662  \n",
       "2    09:25  04:25 10 Jun      19h     2 stops         No info  13882  \n",
       "3    18:05         23:30   5h 25m      1 stop         No info   6218  \n",
       "4    16:50         21:35   4h 45m      1 stop         No info  13302  "
      ]
     },
     "execution_count": 47,
     "metadata": {},
     "output_type": "execute_result"
    }
   ],
   "source": [
    "data.head()"
   ]
  },
  {
   "cell_type": "markdown",
   "id": "1e120077",
   "metadata": {},
   "source": [
    "## Lets see what we have here as features\n",
    "1. Airline --> This feature contain the airline company \n",
    "2. Date_of_journey --> This feature contain the journy date in fromat of dd/mm/yyyy\n",
    "3. Source --> This feature contain the source/ pick up location\n",
    "4. Destination --> This feature contain the final destination of flight\n",
    "5. Route --> Route of the journy\n",
    "6. Dep_Time --> Time of Depature of flight\n",
    "7. Arival_Time --> Time of Arival some time with date \n",
    "8. Duration --> Total Duration of Flight \n",
    "9. Total_Stops --> Total no. of stop\n",
    "10. Additional_info --> Additional info if any \n",
    "11. Price --> Price of flight --> Target \n"
   ]
  },
  {
   "cell_type": "code",
   "execution_count": 48,
   "id": "d4a917dc",
   "metadata": {},
   "outputs": [
    {
     "name": "stdout",
     "output_type": "stream",
     "text": [
      "<class 'pandas.core.frame.DataFrame'>\n",
      "RangeIndex: 10683 entries, 0 to 10682\n",
      "Data columns (total 11 columns):\n",
      " #   Column           Non-Null Count  Dtype \n",
      "---  ------           --------------  ----- \n",
      " 0   Airline          10683 non-null  object\n",
      " 1   Date_of_Journey  10683 non-null  object\n",
      " 2   Source           10683 non-null  object\n",
      " 3   Destination      10683 non-null  object\n",
      " 4   Route            10682 non-null  object\n",
      " 5   Dep_Time         10683 non-null  object\n",
      " 6   Arrival_Time     10683 non-null  object\n",
      " 7   Duration         10683 non-null  object\n",
      " 8   Total_Stops      10682 non-null  object\n",
      " 9   Additional_Info  10683 non-null  object\n",
      " 10  Price            10683 non-null  int64 \n",
      "dtypes: int64(1), object(10)\n",
      "memory usage: 918.2+ KB\n"
     ]
    }
   ],
   "source": [
    "## let's see the datatype of each feature\n",
    "data.info()"
   ]
  },
  {
   "cell_type": "code",
   "execution_count": 49,
   "id": "e1ca8e29",
   "metadata": {},
   "outputs": [
    {
     "data": {
      "text/plain": [
       "Airline            0\n",
       "Date_of_Journey    0\n",
       "Source             0\n",
       "Destination        0\n",
       "Route              1\n",
       "Dep_Time           0\n",
       "Arrival_Time       0\n",
       "Duration           0\n",
       "Total_Stops        1\n",
       "Additional_Info    0\n",
       "Price              0\n",
       "dtype: int64"
      ]
     },
     "execution_count": 49,
     "metadata": {},
     "output_type": "execute_result"
    }
   ],
   "source": [
    "data.isna().sum()"
   ]
  },
  {
   "cell_type": "code",
   "execution_count": 50,
   "id": "0e984be2",
   "metadata": {},
   "outputs": [],
   "source": [
    "## As there is only one na value therefore we will drop NA\n",
    "data.dropna(inplace=True)"
   ]
  },
  {
   "cell_type": "code",
   "execution_count": 51,
   "id": "d0c7b56d",
   "metadata": {},
   "outputs": [],
   "source": [
    "data.drop_duplicates(inplace=True)"
   ]
  },
  {
   "cell_type": "code",
   "execution_count": 52,
   "id": "eb4ab1fd",
   "metadata": {},
   "outputs": [
    {
     "data": {
      "text/plain": [
       "Index(['Airline', 'Date_of_Journey', 'Source', 'Destination', 'Route',\n",
       "       'Dep_Time', 'Arrival_Time', 'Duration', 'Total_Stops',\n",
       "       'Additional_Info', 'Price'],\n",
       "      dtype='object')"
      ]
     },
     "execution_count": 52,
     "metadata": {},
     "output_type": "execute_result"
    }
   ],
   "source": [
    "## Lets see all fetures one by one \n",
    "data.columns"
   ]
  },
  {
   "cell_type": "code",
   "execution_count": 53,
   "id": "7d9bc784",
   "metadata": {},
   "outputs": [],
   "source": [
    "Airline = list(data['Airline'].unique())"
   ]
  },
  {
   "cell_type": "code",
   "execution_count": 54,
   "id": "dca8d778",
   "metadata": {},
   "outputs": [
    {
     "name": "stdout",
     "output_type": "stream",
     "text": [
      "we have 12 Airlines \n",
      "And they are ['IndiGo', 'Air India', 'Jet Airways', 'SpiceJet', 'Multiple carriers', 'GoAir', 'Vistara', 'Air Asia', 'Vistara Premium economy', 'Jet Airways Business', 'Multiple carriers Premium economy', 'Trujet']\n"
     ]
    }
   ],
   "source": [
    "print(f\"we have {len(Airline)} Airlines \")\n",
    "print(f\"And they are {Airline}\")"
   ]
  },
  {
   "cell_type": "code",
   "execution_count": 55,
   "id": "67102501",
   "metadata": {},
   "outputs": [
    {
     "name": "stdout",
     "output_type": "stream",
     "text": [
      "The value count are \n",
      "Jet Airways                          3700\n",
      "IndiGo                               2043\n",
      "Air India                            1694\n",
      "Multiple carriers                    1196\n",
      "SpiceJet                              815\n",
      "Vistara                               478\n",
      "Air Asia                              319\n",
      "GoAir                                 194\n",
      "Multiple carriers Premium economy      13\n",
      "Jet Airways Business                    6\n",
      "Vistara Premium economy                 3\n",
      "Trujet                                  1\n",
      "Name: Airline, dtype: int64\n"
     ]
    }
   ],
   "source": [
    "print(f\"The value count are \\n{data['Airline'].value_counts()}\")"
   ]
  },
  {
   "cell_type": "code",
   "execution_count": 56,
   "id": "150bbf25",
   "metadata": {},
   "outputs": [],
   "source": [
    "## As we can see in info that there can be many such festure\n",
    "## We can use LabelEncoder with ordinal as value \n",
    "colum_required_encoding = ['Airline']"
   ]
  },
  {
   "cell_type": "code",
   "execution_count": 57,
   "id": "10a5e874",
   "metadata": {},
   "outputs": [
    {
     "data": {
      "text/plain": [
       "0        24/03/2019\n",
       "1         1/05/2019\n",
       "2         9/06/2019\n",
       "3        12/05/2019\n",
       "4        01/03/2019\n",
       "            ...    \n",
       "10678     9/04/2019\n",
       "10679    27/04/2019\n",
       "10680    27/04/2019\n",
       "10681    01/03/2019\n",
       "10682     9/05/2019\n",
       "Name: Date_of_Journey, Length: 10462, dtype: object"
      ]
     },
     "execution_count": 57,
     "metadata": {},
     "output_type": "execute_result"
    }
   ],
   "source": [
    "## Lets look on other features \n",
    "data['Date_of_Journey']"
   ]
  },
  {
   "cell_type": "code",
   "execution_count": 58,
   "id": "aa4e01c0",
   "metadata": {},
   "outputs": [
    {
     "name": "stderr",
     "output_type": "stream",
     "text": [
      "D:\\ide\\lib\\site-packages\\pandas\\core\\tools\\datetimes.py:1047: UserWarning: Parsing '24/03/2019' in DD/MM/YYYY format. Provide format or specify infer_datetime_format=True for consistent parsing.\n",
      "  cache_array = _maybe_cache(arg, format, cache, convert_listlike)\n",
      "D:\\ide\\lib\\site-packages\\pandas\\core\\tools\\datetimes.py:1047: UserWarning: Parsing '24/06/2019' in DD/MM/YYYY format. Provide format or specify infer_datetime_format=True for consistent parsing.\n",
      "  cache_array = _maybe_cache(arg, format, cache, convert_listlike)\n",
      "D:\\ide\\lib\\site-packages\\pandas\\core\\tools\\datetimes.py:1047: UserWarning: Parsing '27/05/2019' in DD/MM/YYYY format. Provide format or specify infer_datetime_format=True for consistent parsing.\n",
      "  cache_array = _maybe_cache(arg, format, cache, convert_listlike)\n",
      "D:\\ide\\lib\\site-packages\\pandas\\core\\tools\\datetimes.py:1047: UserWarning: Parsing '18/04/2019' in DD/MM/YYYY format. Provide format or specify infer_datetime_format=True for consistent parsing.\n",
      "  cache_array = _maybe_cache(arg, format, cache, convert_listlike)\n",
      "D:\\ide\\lib\\site-packages\\pandas\\core\\tools\\datetimes.py:1047: UserWarning: Parsing '24/04/2019' in DD/MM/YYYY format. Provide format or specify infer_datetime_format=True for consistent parsing.\n",
      "  cache_array = _maybe_cache(arg, format, cache, convert_listlike)\n",
      "D:\\ide\\lib\\site-packages\\pandas\\core\\tools\\datetimes.py:1047: UserWarning: Parsing '15/04/2019' in DD/MM/YYYY format. Provide format or specify infer_datetime_format=True for consistent parsing.\n",
      "  cache_array = _maybe_cache(arg, format, cache, convert_listlike)\n",
      "D:\\ide\\lib\\site-packages\\pandas\\core\\tools\\datetimes.py:1047: UserWarning: Parsing '21/03/2019' in DD/MM/YYYY format. Provide format or specify infer_datetime_format=True for consistent parsing.\n",
      "  cache_array = _maybe_cache(arg, format, cache, convert_listlike)\n",
      "D:\\ide\\lib\\site-packages\\pandas\\core\\tools\\datetimes.py:1047: UserWarning: Parsing '15/05/2019' in DD/MM/YYYY format. Provide format or specify infer_datetime_format=True for consistent parsing.\n",
      "  cache_array = _maybe_cache(arg, format, cache, convert_listlike)\n",
      "D:\\ide\\lib\\site-packages\\pandas\\core\\tools\\datetimes.py:1047: UserWarning: Parsing '18/06/2019' in DD/MM/YYYY format. Provide format or specify infer_datetime_format=True for consistent parsing.\n",
      "  cache_array = _maybe_cache(arg, format, cache, convert_listlike)\n",
      "D:\\ide\\lib\\site-packages\\pandas\\core\\tools\\datetimes.py:1047: UserWarning: Parsing '15/06/2019' in DD/MM/YYYY format. Provide format or specify infer_datetime_format=True for consistent parsing.\n",
      "  cache_array = _maybe_cache(arg, format, cache, convert_listlike)\n",
      "D:\\ide\\lib\\site-packages\\pandas\\core\\tools\\datetimes.py:1047: UserWarning: Parsing '18/05/2019' in DD/MM/YYYY format. Provide format or specify infer_datetime_format=True for consistent parsing.\n",
      "  cache_array = _maybe_cache(arg, format, cache, convert_listlike)\n",
      "D:\\ide\\lib\\site-packages\\pandas\\core\\tools\\datetimes.py:1047: UserWarning: Parsing '27/06/2019' in DD/MM/YYYY format. Provide format or specify infer_datetime_format=True for consistent parsing.\n",
      "  cache_array = _maybe_cache(arg, format, cache, convert_listlike)\n",
      "D:\\ide\\lib\\site-packages\\pandas\\core\\tools\\datetimes.py:1047: UserWarning: Parsing '21/05/2019' in DD/MM/YYYY format. Provide format or specify infer_datetime_format=True for consistent parsing.\n",
      "  cache_array = _maybe_cache(arg, format, cache, convert_listlike)\n",
      "D:\\ide\\lib\\site-packages\\pandas\\core\\tools\\datetimes.py:1047: UserWarning: Parsing '15/03/2019' in DD/MM/YYYY format. Provide format or specify infer_datetime_format=True for consistent parsing.\n",
      "  cache_array = _maybe_cache(arg, format, cache, convert_listlike)\n",
      "D:\\ide\\lib\\site-packages\\pandas\\core\\tools\\datetimes.py:1047: UserWarning: Parsing '24/05/2019' in DD/MM/YYYY format. Provide format or specify infer_datetime_format=True for consistent parsing.\n",
      "  cache_array = _maybe_cache(arg, format, cache, convert_listlike)\n",
      "D:\\ide\\lib\\site-packages\\pandas\\core\\tools\\datetimes.py:1047: UserWarning: Parsing '21/04/2019' in DD/MM/YYYY format. Provide format or specify infer_datetime_format=True for consistent parsing.\n",
      "  cache_array = _maybe_cache(arg, format, cache, convert_listlike)\n",
      "D:\\ide\\lib\\site-packages\\pandas\\core\\tools\\datetimes.py:1047: UserWarning: Parsing '21/06/2019' in DD/MM/YYYY format. Provide format or specify infer_datetime_format=True for consistent parsing.\n",
      "  cache_array = _maybe_cache(arg, format, cache, convert_listlike)\n",
      "D:\\ide\\lib\\site-packages\\pandas\\core\\tools\\datetimes.py:1047: UserWarning: Parsing '27/03/2019' in DD/MM/YYYY format. Provide format or specify infer_datetime_format=True for consistent parsing.\n",
      "  cache_array = _maybe_cache(arg, format, cache, convert_listlike)\n",
      "D:\\ide\\lib\\site-packages\\pandas\\core\\tools\\datetimes.py:1047: UserWarning: Parsing '18/03/2019' in DD/MM/YYYY format. Provide format or specify infer_datetime_format=True for consistent parsing.\n",
      "  cache_array = _maybe_cache(arg, format, cache, convert_listlike)\n",
      "D:\\ide\\lib\\site-packages\\pandas\\core\\tools\\datetimes.py:1047: UserWarning: Parsing '27/04/2019' in DD/MM/YYYY format. Provide format or specify infer_datetime_format=True for consistent parsing.\n",
      "  cache_array = _maybe_cache(arg, format, cache, convert_listlike)\n"
     ]
    },
    {
     "data": {
      "text/plain": [
       "0       2019-03-24\n",
       "1       2019-01-05\n",
       "2       2019-09-06\n",
       "3       2019-12-05\n",
       "4       2019-01-03\n",
       "           ...    \n",
       "10678   2019-09-04\n",
       "10679   2019-04-27\n",
       "10680   2019-04-27\n",
       "10681   2019-01-03\n",
       "10682   2019-09-05\n",
       "Name: Date_of_Journey, Length: 10462, dtype: datetime64[ns]"
      ]
     },
     "execution_count": 58,
     "metadata": {},
     "output_type": "execute_result"
    }
   ],
   "source": [
    "pd.to_datetime(data['Date_of_Journey'])"
   ]
  },
  {
   "cell_type": "code",
   "execution_count": 59,
   "id": "0664a12e",
   "metadata": {},
   "outputs": [
    {
     "name": "stderr",
     "output_type": "stream",
     "text": [
      "D:\\ide\\lib\\site-packages\\pandas\\core\\tools\\datetimes.py:1047: UserWarning: Parsing '24/03/2019' in DD/MM/YYYY format. Provide format or specify infer_datetime_format=True for consistent parsing.\n",
      "  cache_array = _maybe_cache(arg, format, cache, convert_listlike)\n",
      "D:\\ide\\lib\\site-packages\\pandas\\core\\tools\\datetimes.py:1047: UserWarning: Parsing '24/06/2019' in DD/MM/YYYY format. Provide format or specify infer_datetime_format=True for consistent parsing.\n",
      "  cache_array = _maybe_cache(arg, format, cache, convert_listlike)\n",
      "D:\\ide\\lib\\site-packages\\pandas\\core\\tools\\datetimes.py:1047: UserWarning: Parsing '27/05/2019' in DD/MM/YYYY format. Provide format or specify infer_datetime_format=True for consistent parsing.\n",
      "  cache_array = _maybe_cache(arg, format, cache, convert_listlike)\n",
      "D:\\ide\\lib\\site-packages\\pandas\\core\\tools\\datetimes.py:1047: UserWarning: Parsing '18/04/2019' in DD/MM/YYYY format. Provide format or specify infer_datetime_format=True for consistent parsing.\n",
      "  cache_array = _maybe_cache(arg, format, cache, convert_listlike)\n",
      "D:\\ide\\lib\\site-packages\\pandas\\core\\tools\\datetimes.py:1047: UserWarning: Parsing '24/04/2019' in DD/MM/YYYY format. Provide format or specify infer_datetime_format=True for consistent parsing.\n",
      "  cache_array = _maybe_cache(arg, format, cache, convert_listlike)\n",
      "D:\\ide\\lib\\site-packages\\pandas\\core\\tools\\datetimes.py:1047: UserWarning: Parsing '15/04/2019' in DD/MM/YYYY format. Provide format or specify infer_datetime_format=True for consistent parsing.\n",
      "  cache_array = _maybe_cache(arg, format, cache, convert_listlike)\n",
      "D:\\ide\\lib\\site-packages\\pandas\\core\\tools\\datetimes.py:1047: UserWarning: Parsing '21/03/2019' in DD/MM/YYYY format. Provide format or specify infer_datetime_format=True for consistent parsing.\n",
      "  cache_array = _maybe_cache(arg, format, cache, convert_listlike)\n",
      "D:\\ide\\lib\\site-packages\\pandas\\core\\tools\\datetimes.py:1047: UserWarning: Parsing '15/05/2019' in DD/MM/YYYY format. Provide format or specify infer_datetime_format=True for consistent parsing.\n",
      "  cache_array = _maybe_cache(arg, format, cache, convert_listlike)\n",
      "D:\\ide\\lib\\site-packages\\pandas\\core\\tools\\datetimes.py:1047: UserWarning: Parsing '18/06/2019' in DD/MM/YYYY format. Provide format or specify infer_datetime_format=True for consistent parsing.\n",
      "  cache_array = _maybe_cache(arg, format, cache, convert_listlike)\n",
      "D:\\ide\\lib\\site-packages\\pandas\\core\\tools\\datetimes.py:1047: UserWarning: Parsing '15/06/2019' in DD/MM/YYYY format. Provide format or specify infer_datetime_format=True for consistent parsing.\n",
      "  cache_array = _maybe_cache(arg, format, cache, convert_listlike)\n",
      "D:\\ide\\lib\\site-packages\\pandas\\core\\tools\\datetimes.py:1047: UserWarning: Parsing '18/05/2019' in DD/MM/YYYY format. Provide format or specify infer_datetime_format=True for consistent parsing.\n",
      "  cache_array = _maybe_cache(arg, format, cache, convert_listlike)\n",
      "D:\\ide\\lib\\site-packages\\pandas\\core\\tools\\datetimes.py:1047: UserWarning: Parsing '27/06/2019' in DD/MM/YYYY format. Provide format or specify infer_datetime_format=True for consistent parsing.\n",
      "  cache_array = _maybe_cache(arg, format, cache, convert_listlike)\n",
      "D:\\ide\\lib\\site-packages\\pandas\\core\\tools\\datetimes.py:1047: UserWarning: Parsing '21/05/2019' in DD/MM/YYYY format. Provide format or specify infer_datetime_format=True for consistent parsing.\n",
      "  cache_array = _maybe_cache(arg, format, cache, convert_listlike)\n",
      "D:\\ide\\lib\\site-packages\\pandas\\core\\tools\\datetimes.py:1047: UserWarning: Parsing '15/03/2019' in DD/MM/YYYY format. Provide format or specify infer_datetime_format=True for consistent parsing.\n",
      "  cache_array = _maybe_cache(arg, format, cache, convert_listlike)\n",
      "D:\\ide\\lib\\site-packages\\pandas\\core\\tools\\datetimes.py:1047: UserWarning: Parsing '24/05/2019' in DD/MM/YYYY format. Provide format or specify infer_datetime_format=True for consistent parsing.\n",
      "  cache_array = _maybe_cache(arg, format, cache, convert_listlike)\n",
      "D:\\ide\\lib\\site-packages\\pandas\\core\\tools\\datetimes.py:1047: UserWarning: Parsing '21/04/2019' in DD/MM/YYYY format. Provide format or specify infer_datetime_format=True for consistent parsing.\n",
      "  cache_array = _maybe_cache(arg, format, cache, convert_listlike)\n",
      "D:\\ide\\lib\\site-packages\\pandas\\core\\tools\\datetimes.py:1047: UserWarning: Parsing '21/06/2019' in DD/MM/YYYY format. Provide format or specify infer_datetime_format=True for consistent parsing.\n",
      "  cache_array = _maybe_cache(arg, format, cache, convert_listlike)\n",
      "D:\\ide\\lib\\site-packages\\pandas\\core\\tools\\datetimes.py:1047: UserWarning: Parsing '27/03/2019' in DD/MM/YYYY format. Provide format or specify infer_datetime_format=True for consistent parsing.\n",
      "  cache_array = _maybe_cache(arg, format, cache, convert_listlike)\n",
      "D:\\ide\\lib\\site-packages\\pandas\\core\\tools\\datetimes.py:1047: UserWarning: Parsing '18/03/2019' in DD/MM/YYYY format. Provide format or specify infer_datetime_format=True for consistent parsing.\n",
      "  cache_array = _maybe_cache(arg, format, cache, convert_listlike)\n",
      "D:\\ide\\lib\\site-packages\\pandas\\core\\tools\\datetimes.py:1047: UserWarning: Parsing '27/04/2019' in DD/MM/YYYY format. Provide format or specify infer_datetime_format=True for consistent parsing.\n",
      "  cache_array = _maybe_cache(arg, format, cache, convert_listlike)\n"
     ]
    }
   ],
   "source": [
    "## As you are seeing the Date_of_Journey is a datetime feature\n",
    "## So we can now extract the data from Date_of_Journey such as day_name, day, month, year\n",
    "data['Date_of_Journey'] = pd.to_datetime(data['Date_of_Journey'])\n",
    "data['day_name'] = data['Date_of_Journey'].dt.day_name()\n",
    "data['day'] = data['Date_of_Journey'].dt.day\n",
    "data['month'] = data['Date_of_Journey'].dt.month\n",
    "data['quarter'] = data['Date_of_Journey'].dt.quarter\n"
   ]
  },
  {
   "cell_type": "code",
   "execution_count": 60,
   "id": "ff1eab60",
   "metadata": {},
   "outputs": [
    {
     "data": {
      "text/html": [
       "<div>\n",
       "<style scoped>\n",
       "    .dataframe tbody tr th:only-of-type {\n",
       "        vertical-align: middle;\n",
       "    }\n",
       "\n",
       "    .dataframe tbody tr th {\n",
       "        vertical-align: top;\n",
       "    }\n",
       "\n",
       "    .dataframe thead th {\n",
       "        text-align: right;\n",
       "    }\n",
       "</style>\n",
       "<table border=\"1\" class=\"dataframe\">\n",
       "  <thead>\n",
       "    <tr style=\"text-align: right;\">\n",
       "      <th></th>\n",
       "      <th>Airline</th>\n",
       "      <th>Date_of_Journey</th>\n",
       "      <th>Source</th>\n",
       "      <th>Destination</th>\n",
       "      <th>Route</th>\n",
       "      <th>Dep_Time</th>\n",
       "      <th>Arrival_Time</th>\n",
       "      <th>Duration</th>\n",
       "      <th>Total_Stops</th>\n",
       "      <th>Additional_Info</th>\n",
       "      <th>Price</th>\n",
       "      <th>day_name</th>\n",
       "      <th>day</th>\n",
       "      <th>month</th>\n",
       "      <th>quarter</th>\n",
       "    </tr>\n",
       "  </thead>\n",
       "  <tbody>\n",
       "    <tr>\n",
       "      <th>0</th>\n",
       "      <td>IndiGo</td>\n",
       "      <td>2019-03-24</td>\n",
       "      <td>Banglore</td>\n",
       "      <td>New Delhi</td>\n",
       "      <td>BLR → DEL</td>\n",
       "      <td>22:20</td>\n",
       "      <td>01:10 22 Mar</td>\n",
       "      <td>2h 50m</td>\n",
       "      <td>non-stop</td>\n",
       "      <td>No info</td>\n",
       "      <td>3897</td>\n",
       "      <td>Sunday</td>\n",
       "      <td>24</td>\n",
       "      <td>3</td>\n",
       "      <td>1</td>\n",
       "    </tr>\n",
       "    <tr>\n",
       "      <th>1</th>\n",
       "      <td>Air India</td>\n",
       "      <td>2019-01-05</td>\n",
       "      <td>Kolkata</td>\n",
       "      <td>Banglore</td>\n",
       "      <td>CCU → IXR → BBI → BLR</td>\n",
       "      <td>05:50</td>\n",
       "      <td>13:15</td>\n",
       "      <td>7h 25m</td>\n",
       "      <td>2 stops</td>\n",
       "      <td>No info</td>\n",
       "      <td>7662</td>\n",
       "      <td>Saturday</td>\n",
       "      <td>5</td>\n",
       "      <td>1</td>\n",
       "      <td>1</td>\n",
       "    </tr>\n",
       "    <tr>\n",
       "      <th>2</th>\n",
       "      <td>Jet Airways</td>\n",
       "      <td>2019-09-06</td>\n",
       "      <td>Delhi</td>\n",
       "      <td>Cochin</td>\n",
       "      <td>DEL → LKO → BOM → COK</td>\n",
       "      <td>09:25</td>\n",
       "      <td>04:25 10 Jun</td>\n",
       "      <td>19h</td>\n",
       "      <td>2 stops</td>\n",
       "      <td>No info</td>\n",
       "      <td>13882</td>\n",
       "      <td>Friday</td>\n",
       "      <td>6</td>\n",
       "      <td>9</td>\n",
       "      <td>3</td>\n",
       "    </tr>\n",
       "    <tr>\n",
       "      <th>3</th>\n",
       "      <td>IndiGo</td>\n",
       "      <td>2019-12-05</td>\n",
       "      <td>Kolkata</td>\n",
       "      <td>Banglore</td>\n",
       "      <td>CCU → NAG → BLR</td>\n",
       "      <td>18:05</td>\n",
       "      <td>23:30</td>\n",
       "      <td>5h 25m</td>\n",
       "      <td>1 stop</td>\n",
       "      <td>No info</td>\n",
       "      <td>6218</td>\n",
       "      <td>Thursday</td>\n",
       "      <td>5</td>\n",
       "      <td>12</td>\n",
       "      <td>4</td>\n",
       "    </tr>\n",
       "    <tr>\n",
       "      <th>4</th>\n",
       "      <td>IndiGo</td>\n",
       "      <td>2019-01-03</td>\n",
       "      <td>Banglore</td>\n",
       "      <td>New Delhi</td>\n",
       "      <td>BLR → NAG → DEL</td>\n",
       "      <td>16:50</td>\n",
       "      <td>21:35</td>\n",
       "      <td>4h 45m</td>\n",
       "      <td>1 stop</td>\n",
       "      <td>No info</td>\n",
       "      <td>13302</td>\n",
       "      <td>Thursday</td>\n",
       "      <td>3</td>\n",
       "      <td>1</td>\n",
       "      <td>1</td>\n",
       "    </tr>\n",
       "  </tbody>\n",
       "</table>\n",
       "</div>"
      ],
      "text/plain": [
       "       Airline Date_of_Journey    Source Destination                  Route  \\\n",
       "0       IndiGo      2019-03-24  Banglore   New Delhi              BLR → DEL   \n",
       "1    Air India      2019-01-05   Kolkata    Banglore  CCU → IXR → BBI → BLR   \n",
       "2  Jet Airways      2019-09-06     Delhi      Cochin  DEL → LKO → BOM → COK   \n",
       "3       IndiGo      2019-12-05   Kolkata    Banglore        CCU → NAG → BLR   \n",
       "4       IndiGo      2019-01-03  Banglore   New Delhi        BLR → NAG → DEL   \n",
       "\n",
       "  Dep_Time  Arrival_Time Duration Total_Stops Additional_Info  Price  \\\n",
       "0    22:20  01:10 22 Mar   2h 50m    non-stop         No info   3897   \n",
       "1    05:50         13:15   7h 25m     2 stops         No info   7662   \n",
       "2    09:25  04:25 10 Jun      19h     2 stops         No info  13882   \n",
       "3    18:05         23:30   5h 25m      1 stop         No info   6218   \n",
       "4    16:50         21:35   4h 45m      1 stop         No info  13302   \n",
       "\n",
       "   day_name  day  month  quarter  \n",
       "0    Sunday   24      3        1  \n",
       "1  Saturday    5      1        1  \n",
       "2    Friday    6      9        3  \n",
       "3  Thursday    5     12        4  \n",
       "4  Thursday    3      1        1  "
      ]
     },
     "execution_count": 60,
     "metadata": {},
     "output_type": "execute_result"
    }
   ],
   "source": [
    "data.head()"
   ]
  },
  {
   "cell_type": "code",
   "execution_count": 61,
   "id": "aae3f25b",
   "metadata": {},
   "outputs": [],
   "source": [
    "colum_required_encoding.append('day_name')"
   ]
  },
  {
   "cell_type": "code",
   "execution_count": 62,
   "id": "0d3382c5",
   "metadata": {},
   "outputs": [],
   "source": [
    "## Moving forward we can drop the Date_of_journy \n",
    "df = data.drop(\"Date_of_Journey\",axis=1)"
   ]
  },
  {
   "cell_type": "code",
   "execution_count": 63,
   "id": "6a8988fc",
   "metadata": {},
   "outputs": [
    {
     "data": {
      "text/html": [
       "<div>\n",
       "<style scoped>\n",
       "    .dataframe tbody tr th:only-of-type {\n",
       "        vertical-align: middle;\n",
       "    }\n",
       "\n",
       "    .dataframe tbody tr th {\n",
       "        vertical-align: top;\n",
       "    }\n",
       "\n",
       "    .dataframe thead th {\n",
       "        text-align: right;\n",
       "    }\n",
       "</style>\n",
       "<table border=\"1\" class=\"dataframe\">\n",
       "  <thead>\n",
       "    <tr style=\"text-align: right;\">\n",
       "      <th></th>\n",
       "      <th>Airline</th>\n",
       "      <th>Source</th>\n",
       "      <th>Destination</th>\n",
       "      <th>Route</th>\n",
       "      <th>Dep_Time</th>\n",
       "      <th>Arrival_Time</th>\n",
       "      <th>Duration</th>\n",
       "      <th>Total_Stops</th>\n",
       "      <th>Additional_Info</th>\n",
       "      <th>Price</th>\n",
       "      <th>day_name</th>\n",
       "      <th>day</th>\n",
       "      <th>month</th>\n",
       "      <th>quarter</th>\n",
       "    </tr>\n",
       "  </thead>\n",
       "  <tbody>\n",
       "    <tr>\n",
       "      <th>0</th>\n",
       "      <td>IndiGo</td>\n",
       "      <td>Banglore</td>\n",
       "      <td>New Delhi</td>\n",
       "      <td>BLR → DEL</td>\n",
       "      <td>22:20</td>\n",
       "      <td>01:10 22 Mar</td>\n",
       "      <td>2h 50m</td>\n",
       "      <td>non-stop</td>\n",
       "      <td>No info</td>\n",
       "      <td>3897</td>\n",
       "      <td>Sunday</td>\n",
       "      <td>24</td>\n",
       "      <td>3</td>\n",
       "      <td>1</td>\n",
       "    </tr>\n",
       "    <tr>\n",
       "      <th>1</th>\n",
       "      <td>Air India</td>\n",
       "      <td>Kolkata</td>\n",
       "      <td>Banglore</td>\n",
       "      <td>CCU → IXR → BBI → BLR</td>\n",
       "      <td>05:50</td>\n",
       "      <td>13:15</td>\n",
       "      <td>7h 25m</td>\n",
       "      <td>2 stops</td>\n",
       "      <td>No info</td>\n",
       "      <td>7662</td>\n",
       "      <td>Saturday</td>\n",
       "      <td>5</td>\n",
       "      <td>1</td>\n",
       "      <td>1</td>\n",
       "    </tr>\n",
       "    <tr>\n",
       "      <th>2</th>\n",
       "      <td>Jet Airways</td>\n",
       "      <td>Delhi</td>\n",
       "      <td>Cochin</td>\n",
       "      <td>DEL → LKO → BOM → COK</td>\n",
       "      <td>09:25</td>\n",
       "      <td>04:25 10 Jun</td>\n",
       "      <td>19h</td>\n",
       "      <td>2 stops</td>\n",
       "      <td>No info</td>\n",
       "      <td>13882</td>\n",
       "      <td>Friday</td>\n",
       "      <td>6</td>\n",
       "      <td>9</td>\n",
       "      <td>3</td>\n",
       "    </tr>\n",
       "    <tr>\n",
       "      <th>3</th>\n",
       "      <td>IndiGo</td>\n",
       "      <td>Kolkata</td>\n",
       "      <td>Banglore</td>\n",
       "      <td>CCU → NAG → BLR</td>\n",
       "      <td>18:05</td>\n",
       "      <td>23:30</td>\n",
       "      <td>5h 25m</td>\n",
       "      <td>1 stop</td>\n",
       "      <td>No info</td>\n",
       "      <td>6218</td>\n",
       "      <td>Thursday</td>\n",
       "      <td>5</td>\n",
       "      <td>12</td>\n",
       "      <td>4</td>\n",
       "    </tr>\n",
       "    <tr>\n",
       "      <th>4</th>\n",
       "      <td>IndiGo</td>\n",
       "      <td>Banglore</td>\n",
       "      <td>New Delhi</td>\n",
       "      <td>BLR → NAG → DEL</td>\n",
       "      <td>16:50</td>\n",
       "      <td>21:35</td>\n",
       "      <td>4h 45m</td>\n",
       "      <td>1 stop</td>\n",
       "      <td>No info</td>\n",
       "      <td>13302</td>\n",
       "      <td>Thursday</td>\n",
       "      <td>3</td>\n",
       "      <td>1</td>\n",
       "      <td>1</td>\n",
       "    </tr>\n",
       "  </tbody>\n",
       "</table>\n",
       "</div>"
      ],
      "text/plain": [
       "       Airline    Source Destination                  Route Dep_Time  \\\n",
       "0       IndiGo  Banglore   New Delhi              BLR → DEL    22:20   \n",
       "1    Air India   Kolkata    Banglore  CCU → IXR → BBI → BLR    05:50   \n",
       "2  Jet Airways     Delhi      Cochin  DEL → LKO → BOM → COK    09:25   \n",
       "3       IndiGo   Kolkata    Banglore        CCU → NAG → BLR    18:05   \n",
       "4       IndiGo  Banglore   New Delhi        BLR → NAG → DEL    16:50   \n",
       "\n",
       "   Arrival_Time Duration Total_Stops Additional_Info  Price  day_name  day  \\\n",
       "0  01:10 22 Mar   2h 50m    non-stop         No info   3897    Sunday   24   \n",
       "1         13:15   7h 25m     2 stops         No info   7662  Saturday    5   \n",
       "2  04:25 10 Jun      19h     2 stops         No info  13882    Friday    6   \n",
       "3         23:30   5h 25m      1 stop         No info   6218  Thursday    5   \n",
       "4         21:35   4h 45m      1 stop         No info  13302  Thursday    3   \n",
       "\n",
       "   month  quarter  \n",
       "0      3        1  \n",
       "1      1        1  \n",
       "2      9        3  \n",
       "3     12        4  \n",
       "4      1        1  "
      ]
     },
     "execution_count": 63,
     "metadata": {},
     "output_type": "execute_result"
    }
   ],
   "source": [
    "df.head()"
   ]
  },
  {
   "cell_type": "code",
   "execution_count": 64,
   "id": "5c5a3152",
   "metadata": {},
   "outputs": [
    {
     "name": "stdout",
     "output_type": "stream",
     "text": [
      "Sources are: ['Banglore' 'Kolkata' 'Delhi' 'Chennai' 'Mumbai']\n",
      "Destinations are: ['New Delhi' 'Banglore' 'Cochin' 'Kolkata' 'Delhi' 'Hyderabad']\n"
     ]
    }
   ],
   "source": [
    "## Now we will look forward with other feature\n",
    "print(f\"Sources are: {df['Source'].unique()}\")\n",
    "print(f\"Destinations are: {df['Destination'].unique()}\")"
   ]
  },
  {
   "cell_type": "code",
   "execution_count": 65,
   "id": "69a9dd2d",
   "metadata": {},
   "outputs": [],
   "source": [
    "## as we can see in Destination there is New Delhi and Delhi which are same so we will replace New Delhi with Delhi\n",
    "df['Destination'].replace(\"New Delhi\",\"Delhi\",inplace=True)"
   ]
  },
  {
   "cell_type": "code",
   "execution_count": 66,
   "id": "9f2bd0a8",
   "metadata": {},
   "outputs": [
    {
     "name": "stdout",
     "output_type": "stream",
     "text": [
      "Sources are: ['Banglore' 'Kolkata' 'Delhi' 'Chennai' 'Mumbai']\n",
      "Destinations are: ['Delhi' 'Banglore' 'Cochin' 'Kolkata' 'Hyderabad']\n"
     ]
    }
   ],
   "source": [
    "print(f\"Sources are: {df['Source'].unique()}\")\n",
    "print(f\"Destinations are: {df['Destination'].unique()}\")"
   ]
  },
  {
   "cell_type": "code",
   "execution_count": 67,
   "id": "7d2ec606",
   "metadata": {},
   "outputs": [],
   "source": [
    "## We can add those to in a colum require label encoding\n",
    "colum_required_encoding.append(\"Source\")\n",
    "colum_required_encoding.append(\"Destination\")"
   ]
  },
  {
   "cell_type": "code",
   "execution_count": null,
   "id": "f1546e54",
   "metadata": {
    "scrolled": false
   },
   "outputs": [],
   "source": []
  },
  {
   "cell_type": "code",
   "execution_count": 68,
   "id": "89a57657",
   "metadata": {},
   "outputs": [
    {
     "name": "stdout",
     "output_type": "stream",
     "text": [
      "No. of route 128\n",
      "Routes are ['BLR → DEL' 'CCU → IXR → BBI → BLR' 'DEL → LKO → BOM → COK'\n",
      " 'CCU → NAG → BLR' 'BLR → NAG → DEL' 'CCU → BLR' 'BLR → BOM → DEL'\n",
      " 'DEL → BOM → COK' 'DEL → BLR → COK' 'MAA → CCU' 'CCU → BOM → BLR'\n",
      " 'DEL → AMD → BOM → COK' 'DEL → PNQ → COK' 'DEL → CCU → BOM → COK'\n",
      " 'BLR → COK → DEL' 'DEL → IDR → BOM → COK' 'DEL → LKO → COK'\n",
      " 'CCU → GAU → DEL → BLR' 'DEL → NAG → BOM → COK' 'CCU → MAA → BLR'\n",
      " 'DEL → HYD → COK' 'CCU → HYD → BLR' 'DEL → COK' 'CCU → DEL → BLR'\n",
      " 'BLR → BOM → AMD → DEL' 'BOM → DEL → HYD' 'DEL → MAA → COK' 'BOM → HYD'\n",
      " 'DEL → BHO → BOM → COK' 'DEL → JAI → BOM → COK' 'DEL → ATQ → BOM → COK'\n",
      " 'DEL → JDH → BOM → COK' 'CCU → BBI → BOM → BLR' 'BLR → MAA → DEL'\n",
      " 'DEL → GOI → BOM → COK' 'DEL → BDQ → BOM → COK' 'CCU → JAI → BOM → BLR'\n",
      " 'CCU → BBI → BLR' 'BLR → HYD → DEL' 'DEL → TRV → COK'\n",
      " 'CCU → IXR → DEL → BLR' 'DEL → IXU → BOM → COK' 'CCU → IXB → BLR'\n",
      " 'BLR → BOM → JDH → DEL' 'DEL → UDR → BOM → COK' 'DEL → HYD → MAA → COK'\n",
      " 'CCU → BOM → COK → BLR' 'BLR → CCU → DEL' 'CCU → BOM → GOI → BLR'\n",
      " 'DEL → RPR → NAG → BOM → COK' 'DEL → HYD → BOM → COK'\n",
      " 'CCU → DEL → AMD → BLR' 'CCU → PNQ → BLR' 'BLR → CCU → GAU → DEL'\n",
      " 'CCU → DEL → COK → BLR' 'BLR → PNQ → DEL' 'BOM → JDH → DEL → HYD'\n",
      " 'BLR → BOM → BHO → DEL' 'DEL → AMD → COK' 'BLR → LKO → DEL'\n",
      " 'CCU → GAU → BLR' 'BOM → GOI → HYD' 'CCU → BOM → AMD → BLR'\n",
      " 'CCU → BBI → IXR → DEL → BLR' 'DEL → DED → BOM → COK'\n",
      " 'DEL → MAA → BOM → COK' 'BLR → AMD → DEL' 'BLR → VGA → DEL'\n",
      " 'CCU → JAI → DEL → BLR' 'CCU → AMD → BLR' 'CCU → VNS → DEL → BLR'\n",
      " 'BLR → BOM → IDR → DEL' 'BLR → BBI → DEL' 'BLR → GOI → DEL'\n",
      " 'BOM → AMD → ISK → HYD' 'BOM → DED → DEL → HYD' 'DEL → IXC → BOM → COK'\n",
      " 'CCU → PAT → BLR' 'BLR → CCU → BBI → DEL' 'CCU → BBI → HYD → BLR'\n",
      " 'BLR → BOM → NAG → DEL' 'BLR → CCU → BBI → HYD → DEL' 'BLR → GAU → DEL'\n",
      " 'BOM → BHO → DEL → HYD' 'BOM → JLR → HYD' 'BLR → HYD → VGA → DEL'\n",
      " 'CCU → KNU → BLR' 'CCU → BOM → PNQ → BLR' 'DEL → BBI → COK'\n",
      " 'BLR → VGA → HYD → DEL' 'BOM → JDH → JAI → DEL → HYD'\n",
      " 'DEL → GWL → IDR → BOM → COK' 'CCU → RPR → HYD → BLR' 'CCU → VTZ → BLR'\n",
      " 'CCU → DEL → VGA → BLR' 'BLR → BOM → IDR → GWL → DEL'\n",
      " 'CCU → DEL → COK → TRV → BLR' 'BOM → COK → MAA → HYD' 'BOM → NDC → HYD'\n",
      " 'BLR → BDQ → DEL' 'CCU → BOM → TRV → BLR' 'CCU → BOM → HBX → BLR'\n",
      " 'BOM → BDQ → DEL → HYD' 'BOM → CCU → HYD' 'BLR → TRV → COK → DEL'\n",
      " 'BLR → IDR → DEL' 'CCU → IXZ → MAA → BLR' 'CCU → GAU → IMF → DEL → BLR'\n",
      " 'BOM → GOI → PNQ → HYD' 'BOM → BLR → CCU → BBI → HYD' 'BOM → MAA → HYD'\n",
      " 'BLR → BOM → UDR → DEL' 'BOM → UDR → DEL → HYD' 'BLR → VGA → VTZ → DEL'\n",
      " 'BLR → HBX → BOM → BHO → DEL' 'CCU → IXA → BLR' 'BOM → RPR → VTZ → HYD'\n",
      " 'BLR → HBX → BOM → AMD → DEL' 'BOM → IDR → DEL → HYD' 'BOM → BLR → HYD'\n",
      " 'BLR → STV → DEL' 'CCU → IXB → DEL → BLR' 'BOM → JAI → DEL → HYD'\n",
      " 'BOM → VNS → DEL → HYD' 'BLR → HBX → BOM → NAG → DEL'\n",
      " 'BLR → BOM → IXC → DEL' 'BLR → CCU → BBI → HYD → VGA → DEL'\n",
      " 'BOM → BBI → HYD']\n"
     ]
    }
   ],
   "source": [
    "## Now route \n",
    "route = df['Route'].unique()\n",
    "print(f\"No. of route {len(route)}\")\n",
    "print(f\"Routes are {route}\")\n",
    "for i in route:\n",
    "    if isinstance(i, (float)):\n",
    "        print(i)"
   ]
  },
  {
   "cell_type": "code",
   "execution_count": 69,
   "id": "59ba00dc",
   "metadata": {},
   "outputs": [],
   "source": [
    "## As there are so many routes \n",
    "## Lets break it down\n",
    "spliter = df['Route'][0].split()[1]\n",
    "df['Route'] = df['Route'].apply(lambda x: x.split(spliter))"
   ]
  },
  {
   "cell_type": "code",
   "execution_count": 70,
   "id": "f23c6e68",
   "metadata": {},
   "outputs": [
    {
     "data": {
      "text/plain": [
       "0                  [BLR ,  DEL]\n",
       "1    [CCU ,  IXR ,  BBI ,  BLR]\n",
       "2    [DEL ,  LKO ,  BOM ,  COK]\n",
       "3           [CCU ,  NAG ,  BLR]\n",
       "4           [BLR ,  NAG ,  DEL]\n",
       "Name: Route, dtype: object"
      ]
     },
     "execution_count": 70,
     "metadata": {},
     "output_type": "execute_result"
    }
   ],
   "source": [
    "df['Route'].head()"
   ]
  },
  {
   "cell_type": "code",
   "execution_count": 71,
   "id": "167eccd7",
   "metadata": {},
   "outputs": [
    {
     "name": "stderr",
     "output_type": "stream",
     "text": [
      "C:\\Users\\hp\\AppData\\Local\\Temp\\ipykernel_1556\\1830658825.py:12: SettingWithCopyWarning: \n",
      "A value is trying to be set on a copy of a slice from a DataFrame\n",
      "\n",
      "See the caveats in the documentation: https://pandas.pydata.org/pandas-docs/stable/user_guide/indexing.html#returning-a-view-versus-a-copy\n",
      "  df['Source_Route'].iloc[i] = df['Route'].iloc[i][j]\n",
      "C:\\Users\\hp\\AppData\\Local\\Temp\\ipykernel_1556\\1830658825.py:14: SettingWithCopyWarning: \n",
      "A value is trying to be set on a copy of a slice from a DataFrame\n",
      "\n",
      "See the caveats in the documentation: https://pandas.pydata.org/pandas-docs/stable/user_guide/indexing.html#returning-a-view-versus-a-copy\n",
      "  df[f'Route_{j}'].iloc[i] = df['Route'].iloc[i][j]\n"
     ]
    }
   ],
   "source": [
    "max_len = max([len(i) for i in df['Route']])\n",
    "for i in range(max_len):\n",
    "    if i == 0:\n",
    "        df['Source_Route'] = '0'\n",
    "        colum_required_encoding.append('Source_Route')\n",
    "    else:\n",
    "        df[f'Route_{i}'] = '0'\n",
    "        colum_required_encoding.append(f'Route_{i}')\n",
    "for i in range(len(df[\"Route\"])):\n",
    "    for j in range(len(df['Route'].iloc[i])):\n",
    "        if j == 0:\n",
    "            df['Source_Route'].iloc[i] = df['Route'].iloc[i][j]\n",
    "        else:\n",
    "            df[f'Route_{j}'].iloc[i] = df['Route'].iloc[i][j]"
   ]
  },
  {
   "cell_type": "code",
   "execution_count": 72,
   "id": "facbe5fd",
   "metadata": {},
   "outputs": [
    {
     "data": {
      "text/html": [
       "<div>\n",
       "<style scoped>\n",
       "    .dataframe tbody tr th:only-of-type {\n",
       "        vertical-align: middle;\n",
       "    }\n",
       "\n",
       "    .dataframe tbody tr th {\n",
       "        vertical-align: top;\n",
       "    }\n",
       "\n",
       "    .dataframe thead th {\n",
       "        text-align: right;\n",
       "    }\n",
       "</style>\n",
       "<table border=\"1\" class=\"dataframe\">\n",
       "  <thead>\n",
       "    <tr style=\"text-align: right;\">\n",
       "      <th></th>\n",
       "      <th>Airline</th>\n",
       "      <th>Source</th>\n",
       "      <th>Destination</th>\n",
       "      <th>Route</th>\n",
       "      <th>Dep_Time</th>\n",
       "      <th>Arrival_Time</th>\n",
       "      <th>Duration</th>\n",
       "      <th>Total_Stops</th>\n",
       "      <th>Additional_Info</th>\n",
       "      <th>Price</th>\n",
       "      <th>day_name</th>\n",
       "      <th>day</th>\n",
       "      <th>month</th>\n",
       "      <th>quarter</th>\n",
       "      <th>Source_Route</th>\n",
       "      <th>Route_1</th>\n",
       "      <th>Route_2</th>\n",
       "      <th>Route_3</th>\n",
       "      <th>Route_4</th>\n",
       "      <th>Route_5</th>\n",
       "    </tr>\n",
       "  </thead>\n",
       "  <tbody>\n",
       "    <tr>\n",
       "      <th>0</th>\n",
       "      <td>IndiGo</td>\n",
       "      <td>Banglore</td>\n",
       "      <td>Delhi</td>\n",
       "      <td>[BLR ,  DEL]</td>\n",
       "      <td>22:20</td>\n",
       "      <td>01:10 22 Mar</td>\n",
       "      <td>2h 50m</td>\n",
       "      <td>non-stop</td>\n",
       "      <td>No info</td>\n",
       "      <td>3897</td>\n",
       "      <td>Sunday</td>\n",
       "      <td>24</td>\n",
       "      <td>3</td>\n",
       "      <td>1</td>\n",
       "      <td>BLR</td>\n",
       "      <td>DEL</td>\n",
       "      <td>0</td>\n",
       "      <td>0</td>\n",
       "      <td>0</td>\n",
       "      <td>0</td>\n",
       "    </tr>\n",
       "    <tr>\n",
       "      <th>1</th>\n",
       "      <td>Air India</td>\n",
       "      <td>Kolkata</td>\n",
       "      <td>Banglore</td>\n",
       "      <td>[CCU ,  IXR ,  BBI ,  BLR]</td>\n",
       "      <td>05:50</td>\n",
       "      <td>13:15</td>\n",
       "      <td>7h 25m</td>\n",
       "      <td>2 stops</td>\n",
       "      <td>No info</td>\n",
       "      <td>7662</td>\n",
       "      <td>Saturday</td>\n",
       "      <td>5</td>\n",
       "      <td>1</td>\n",
       "      <td>1</td>\n",
       "      <td>CCU</td>\n",
       "      <td>IXR</td>\n",
       "      <td>BBI</td>\n",
       "      <td>BLR</td>\n",
       "      <td>0</td>\n",
       "      <td>0</td>\n",
       "    </tr>\n",
       "    <tr>\n",
       "      <th>2</th>\n",
       "      <td>Jet Airways</td>\n",
       "      <td>Delhi</td>\n",
       "      <td>Cochin</td>\n",
       "      <td>[DEL ,  LKO ,  BOM ,  COK]</td>\n",
       "      <td>09:25</td>\n",
       "      <td>04:25 10 Jun</td>\n",
       "      <td>19h</td>\n",
       "      <td>2 stops</td>\n",
       "      <td>No info</td>\n",
       "      <td>13882</td>\n",
       "      <td>Friday</td>\n",
       "      <td>6</td>\n",
       "      <td>9</td>\n",
       "      <td>3</td>\n",
       "      <td>DEL</td>\n",
       "      <td>LKO</td>\n",
       "      <td>BOM</td>\n",
       "      <td>COK</td>\n",
       "      <td>0</td>\n",
       "      <td>0</td>\n",
       "    </tr>\n",
       "    <tr>\n",
       "      <th>3</th>\n",
       "      <td>IndiGo</td>\n",
       "      <td>Kolkata</td>\n",
       "      <td>Banglore</td>\n",
       "      <td>[CCU ,  NAG ,  BLR]</td>\n",
       "      <td>18:05</td>\n",
       "      <td>23:30</td>\n",
       "      <td>5h 25m</td>\n",
       "      <td>1 stop</td>\n",
       "      <td>No info</td>\n",
       "      <td>6218</td>\n",
       "      <td>Thursday</td>\n",
       "      <td>5</td>\n",
       "      <td>12</td>\n",
       "      <td>4</td>\n",
       "      <td>CCU</td>\n",
       "      <td>NAG</td>\n",
       "      <td>BLR</td>\n",
       "      <td>0</td>\n",
       "      <td>0</td>\n",
       "      <td>0</td>\n",
       "    </tr>\n",
       "    <tr>\n",
       "      <th>4</th>\n",
       "      <td>IndiGo</td>\n",
       "      <td>Banglore</td>\n",
       "      <td>Delhi</td>\n",
       "      <td>[BLR ,  NAG ,  DEL]</td>\n",
       "      <td>16:50</td>\n",
       "      <td>21:35</td>\n",
       "      <td>4h 45m</td>\n",
       "      <td>1 stop</td>\n",
       "      <td>No info</td>\n",
       "      <td>13302</td>\n",
       "      <td>Thursday</td>\n",
       "      <td>3</td>\n",
       "      <td>1</td>\n",
       "      <td>1</td>\n",
       "      <td>BLR</td>\n",
       "      <td>NAG</td>\n",
       "      <td>DEL</td>\n",
       "      <td>0</td>\n",
       "      <td>0</td>\n",
       "      <td>0</td>\n",
       "    </tr>\n",
       "  </tbody>\n",
       "</table>\n",
       "</div>"
      ],
      "text/plain": [
       "       Airline    Source Destination                       Route Dep_Time  \\\n",
       "0       IndiGo  Banglore       Delhi                [BLR ,  DEL]    22:20   \n",
       "1    Air India   Kolkata    Banglore  [CCU ,  IXR ,  BBI ,  BLR]    05:50   \n",
       "2  Jet Airways     Delhi      Cochin  [DEL ,  LKO ,  BOM ,  COK]    09:25   \n",
       "3       IndiGo   Kolkata    Banglore         [CCU ,  NAG ,  BLR]    18:05   \n",
       "4       IndiGo  Banglore       Delhi         [BLR ,  NAG ,  DEL]    16:50   \n",
       "\n",
       "   Arrival_Time Duration Total_Stops Additional_Info  Price  day_name  day  \\\n",
       "0  01:10 22 Mar   2h 50m    non-stop         No info   3897    Sunday   24   \n",
       "1         13:15   7h 25m     2 stops         No info   7662  Saturday    5   \n",
       "2  04:25 10 Jun      19h     2 stops         No info  13882    Friday    6   \n",
       "3         23:30   5h 25m      1 stop         No info   6218  Thursday    5   \n",
       "4         21:35   4h 45m      1 stop         No info  13302  Thursday    3   \n",
       "\n",
       "   month  quarter Source_Route Route_1 Route_2 Route_3 Route_4 Route_5  \n",
       "0      3        1         BLR      DEL       0       0       0       0  \n",
       "1      1        1         CCU     IXR     BBI      BLR       0       0  \n",
       "2      9        3         DEL     LKO     BOM      COK       0       0  \n",
       "3     12        4         CCU     NAG      BLR       0       0       0  \n",
       "4      1        1         BLR     NAG      DEL       0       0       0  "
      ]
     },
     "execution_count": 72,
     "metadata": {},
     "output_type": "execute_result"
    }
   ],
   "source": [
    "df.head()"
   ]
  },
  {
   "cell_type": "code",
   "execution_count": 73,
   "id": "c658bc54",
   "metadata": {},
   "outputs": [],
   "source": [
    "## we can drop the Route and then added the new feature into colum for encoder\n",
    "df.drop('Route',axis=1,inplace=True)"
   ]
  },
  {
   "cell_type": "code",
   "execution_count": null,
   "id": "47cda9b4",
   "metadata": {},
   "outputs": [],
   "source": [
    "\n"
   ]
  },
  {
   "cell_type": "code",
   "execution_count": 74,
   "id": "cb39e55d",
   "metadata": {},
   "outputs": [],
   "source": [
    "## Now its time for Dep_Time\n",
    "df['Dep_Time'] = pd.to_datetime(df['Dep_Time'])\n",
    "df['Dep_Time_Hr'] = df['Dep_Time'].dt.hour\n",
    "df['Dep_Time_Min'] = df['Dep_Time'].dt.minute"
   ]
  },
  {
   "cell_type": "code",
   "execution_count": 75,
   "id": "044d7d90",
   "metadata": {},
   "outputs": [],
   "source": [
    "df[['Dep_Time','Dep_Time_Hr','Dep_Time_Min']]\n",
    "df.drop('Dep_Time',axis=1,inplace=True)"
   ]
  },
  {
   "cell_type": "code",
   "execution_count": 76,
   "id": "29264c84",
   "metadata": {},
   "outputs": [],
   "source": [
    "## Now for Arrival_Time\n",
    "## Now for the Arrival_Time there are some flight which lande next day so we will take data that way\n",
    "df['Arrival_Time_'] = pd.to_datetime(df['Arrival_Time'].apply(lambda x: x.split()[0]))\n",
    "df['Arrival_Time_Hr'] = df['Arrival_Time_'].dt.hour\n",
    "df['Arrival_Time_Min'] = df['Arrival_Time_'].dt.minute\n",
    "df.drop(['Arrival_Time','Arrival_Time_'],axis=1,inplace=True)"
   ]
  },
  {
   "cell_type": "code",
   "execution_count": 77,
   "id": "8bc430ef",
   "metadata": {},
   "outputs": [],
   "source": [
    "## Now for Duration we are converting the duration into the minute \n",
    "index = df[df['Duration']=='5m'].index[0]\n",
    "df.drop(index,inplace=True)\n",
    "df['Duration'] = [(int(i[0].replace('h',''))*60)+int(i[1].replace('m','')) if len(i)>1 else (int(i[0].replace('h',''))*60) for i in df['Duration'].apply(lambda x:x.split()) ]"
   ]
  },
  {
   "cell_type": "markdown",
   "id": "a14b1821",
   "metadata": {},
   "source": []
  },
  {
   "cell_type": "code",
   "execution_count": 78,
   "id": "b197f66f",
   "metadata": {},
   "outputs": [
    {
     "data": {
      "text/plain": [
       "array(['non-stop', '2 stops', '1 stop', '3 stops', '4 stops'],\n",
       "      dtype=object)"
      ]
     },
     "execution_count": 78,
     "metadata": {},
     "output_type": "execute_result"
    }
   ],
   "source": [
    "## Now for Total_Stops\n",
    "df['Total_Stops'].unique()"
   ]
  },
  {
   "cell_type": "code",
   "execution_count": 79,
   "id": "4731030a",
   "metadata": {},
   "outputs": [],
   "source": [
    "## We can see there is no. of stops we can directly conver it into the ordinal numbers\n",
    "## But first replace the non-stop with zero \n",
    "df['Total_Stops'] = df['Total_Stops'].replace(\"non-stop\",\"0\")\n",
    "df['Total_Stops'] = df['Total_Stops'].apply(lambda x: x.split()[0])\n",
    "df['Total_Stops'] = df['Total_Stops'].astype(int)"
   ]
  },
  {
   "cell_type": "code",
   "execution_count": 80,
   "id": "90be10f0",
   "metadata": {},
   "outputs": [
    {
     "name": "stdout",
     "output_type": "stream",
     "text": [
      "10\n"
     ]
    },
    {
     "data": {
      "text/plain": [
       "array(['No info', 'In-flight meal not included',\n",
       "       'No check-in baggage included', '1 Short layover', 'No Info',\n",
       "       '1 Long layover', 'Change airports', 'Business class',\n",
       "       'Red-eye flight', '2 Long layover'], dtype=object)"
      ]
     },
     "execution_count": 80,
     "metadata": {},
     "output_type": "execute_result"
    }
   ],
   "source": [
    "## Now for Additional_Info\n",
    "print(len(df['Additional_Info'].unique()))\n",
    "df['Additional_Info'].unique()\n"
   ]
  },
  {
   "cell_type": "code",
   "execution_count": 81,
   "id": "c2134ae0",
   "metadata": {},
   "outputs": [
    {
     "name": "stderr",
     "output_type": "stream",
     "text": [
      "D:\\ide\\lib\\site-packages\\sklearn\\utils\\deprecation.py:87: FutureWarning: Function get_feature_names is deprecated; get_feature_names is deprecated in 1.0 and will be removed in 1.2. Please use get_feature_names_out instead.\n",
      "  warnings.warn(msg, category=FutureWarning)\n"
     ]
    }
   ],
   "source": [
    "from sklearn.preprocessing import OneHotEncoder\n",
    "from sklearn.compose import make_column_transformer\n",
    "transformer = make_column_transformer(\n",
    "    (OneHotEncoder(), ['Additional_Info']),\n",
    "    remainder='passthrough')\n",
    "transformed_data = transformer.fit_transform(df)\n",
    "df = pd.DataFrame(transformed_data,columns=transformer.get_feature_names())"
   ]
  },
  {
   "cell_type": "code",
   "execution_count": 82,
   "id": "86118ee4",
   "metadata": {},
   "outputs": [
    {
     "data": {
      "text/html": [
       "<div>\n",
       "<style scoped>\n",
       "    .dataframe tbody tr th:only-of-type {\n",
       "        vertical-align: middle;\n",
       "    }\n",
       "\n",
       "    .dataframe tbody tr th {\n",
       "        vertical-align: top;\n",
       "    }\n",
       "\n",
       "    .dataframe thead th {\n",
       "        text-align: right;\n",
       "    }\n",
       "</style>\n",
       "<table border=\"1\" class=\"dataframe\">\n",
       "  <thead>\n",
       "    <tr style=\"text-align: right;\">\n",
       "      <th></th>\n",
       "      <th>onehotencoder__x0_1 Long layover</th>\n",
       "      <th>onehotencoder__x0_1 Short layover</th>\n",
       "      <th>onehotencoder__x0_2 Long layover</th>\n",
       "      <th>onehotencoder__x0_Business class</th>\n",
       "      <th>onehotencoder__x0_Change airports</th>\n",
       "      <th>onehotencoder__x0_In-flight meal not included</th>\n",
       "      <th>onehotencoder__x0_No Info</th>\n",
       "      <th>onehotencoder__x0_No check-in baggage included</th>\n",
       "      <th>onehotencoder__x0_No info</th>\n",
       "      <th>onehotencoder__x0_Red-eye flight</th>\n",
       "      <th>...</th>\n",
       "      <th>Source_Route</th>\n",
       "      <th>Route_1</th>\n",
       "      <th>Route_2</th>\n",
       "      <th>Route_3</th>\n",
       "      <th>Route_4</th>\n",
       "      <th>Route_5</th>\n",
       "      <th>Dep_Time_Hr</th>\n",
       "      <th>Dep_Time_Min</th>\n",
       "      <th>Arrival_Time_Hr</th>\n",
       "      <th>Arrival_Time_Min</th>\n",
       "    </tr>\n",
       "  </thead>\n",
       "  <tbody>\n",
       "    <tr>\n",
       "      <th>0</th>\n",
       "      <td>0.0</td>\n",
       "      <td>0.0</td>\n",
       "      <td>0.0</td>\n",
       "      <td>0.0</td>\n",
       "      <td>0.0</td>\n",
       "      <td>0.0</td>\n",
       "      <td>0.0</td>\n",
       "      <td>0.0</td>\n",
       "      <td>1.0</td>\n",
       "      <td>0.0</td>\n",
       "      <td>...</td>\n",
       "      <td>BLR</td>\n",
       "      <td>DEL</td>\n",
       "      <td>0</td>\n",
       "      <td>0</td>\n",
       "      <td>0</td>\n",
       "      <td>0</td>\n",
       "      <td>22</td>\n",
       "      <td>20</td>\n",
       "      <td>1</td>\n",
       "      <td>10</td>\n",
       "    </tr>\n",
       "    <tr>\n",
       "      <th>1</th>\n",
       "      <td>0.0</td>\n",
       "      <td>0.0</td>\n",
       "      <td>0.0</td>\n",
       "      <td>0.0</td>\n",
       "      <td>0.0</td>\n",
       "      <td>0.0</td>\n",
       "      <td>0.0</td>\n",
       "      <td>0.0</td>\n",
       "      <td>1.0</td>\n",
       "      <td>0.0</td>\n",
       "      <td>...</td>\n",
       "      <td>CCU</td>\n",
       "      <td>IXR</td>\n",
       "      <td>BBI</td>\n",
       "      <td>BLR</td>\n",
       "      <td>0</td>\n",
       "      <td>0</td>\n",
       "      <td>5</td>\n",
       "      <td>50</td>\n",
       "      <td>13</td>\n",
       "      <td>15</td>\n",
       "    </tr>\n",
       "    <tr>\n",
       "      <th>2</th>\n",
       "      <td>0.0</td>\n",
       "      <td>0.0</td>\n",
       "      <td>0.0</td>\n",
       "      <td>0.0</td>\n",
       "      <td>0.0</td>\n",
       "      <td>0.0</td>\n",
       "      <td>0.0</td>\n",
       "      <td>0.0</td>\n",
       "      <td>1.0</td>\n",
       "      <td>0.0</td>\n",
       "      <td>...</td>\n",
       "      <td>DEL</td>\n",
       "      <td>LKO</td>\n",
       "      <td>BOM</td>\n",
       "      <td>COK</td>\n",
       "      <td>0</td>\n",
       "      <td>0</td>\n",
       "      <td>9</td>\n",
       "      <td>25</td>\n",
       "      <td>4</td>\n",
       "      <td>25</td>\n",
       "    </tr>\n",
       "    <tr>\n",
       "      <th>3</th>\n",
       "      <td>0.0</td>\n",
       "      <td>0.0</td>\n",
       "      <td>0.0</td>\n",
       "      <td>0.0</td>\n",
       "      <td>0.0</td>\n",
       "      <td>0.0</td>\n",
       "      <td>0.0</td>\n",
       "      <td>0.0</td>\n",
       "      <td>1.0</td>\n",
       "      <td>0.0</td>\n",
       "      <td>...</td>\n",
       "      <td>CCU</td>\n",
       "      <td>NAG</td>\n",
       "      <td>BLR</td>\n",
       "      <td>0</td>\n",
       "      <td>0</td>\n",
       "      <td>0</td>\n",
       "      <td>18</td>\n",
       "      <td>5</td>\n",
       "      <td>23</td>\n",
       "      <td>30</td>\n",
       "    </tr>\n",
       "    <tr>\n",
       "      <th>4</th>\n",
       "      <td>0.0</td>\n",
       "      <td>0.0</td>\n",
       "      <td>0.0</td>\n",
       "      <td>0.0</td>\n",
       "      <td>0.0</td>\n",
       "      <td>0.0</td>\n",
       "      <td>0.0</td>\n",
       "      <td>0.0</td>\n",
       "      <td>1.0</td>\n",
       "      <td>0.0</td>\n",
       "      <td>...</td>\n",
       "      <td>BLR</td>\n",
       "      <td>NAG</td>\n",
       "      <td>DEL</td>\n",
       "      <td>0</td>\n",
       "      <td>0</td>\n",
       "      <td>0</td>\n",
       "      <td>16</td>\n",
       "      <td>50</td>\n",
       "      <td>21</td>\n",
       "      <td>35</td>\n",
       "    </tr>\n",
       "  </tbody>\n",
       "</table>\n",
       "<p>5 rows × 30 columns</p>\n",
       "</div>"
      ],
      "text/plain": [
       "  onehotencoder__x0_1 Long layover onehotencoder__x0_1 Short layover  \\\n",
       "0                              0.0                               0.0   \n",
       "1                              0.0                               0.0   \n",
       "2                              0.0                               0.0   \n",
       "3                              0.0                               0.0   \n",
       "4                              0.0                               0.0   \n",
       "\n",
       "  onehotencoder__x0_2 Long layover onehotencoder__x0_Business class  \\\n",
       "0                              0.0                              0.0   \n",
       "1                              0.0                              0.0   \n",
       "2                              0.0                              0.0   \n",
       "3                              0.0                              0.0   \n",
       "4                              0.0                              0.0   \n",
       "\n",
       "  onehotencoder__x0_Change airports  \\\n",
       "0                               0.0   \n",
       "1                               0.0   \n",
       "2                               0.0   \n",
       "3                               0.0   \n",
       "4                               0.0   \n",
       "\n",
       "  onehotencoder__x0_In-flight meal not included onehotencoder__x0_No Info  \\\n",
       "0                                           0.0                       0.0   \n",
       "1                                           0.0                       0.0   \n",
       "2                                           0.0                       0.0   \n",
       "3                                           0.0                       0.0   \n",
       "4                                           0.0                       0.0   \n",
       "\n",
       "  onehotencoder__x0_No check-in baggage included onehotencoder__x0_No info  \\\n",
       "0                                            0.0                       1.0   \n",
       "1                                            0.0                       1.0   \n",
       "2                                            0.0                       1.0   \n",
       "3                                            0.0                       1.0   \n",
       "4                                            0.0                       1.0   \n",
       "\n",
       "  onehotencoder__x0_Red-eye flight  ... Source_Route Route_1 Route_2 Route_3  \\\n",
       "0                              0.0  ...         BLR      DEL       0       0   \n",
       "1                              0.0  ...         CCU     IXR     BBI      BLR   \n",
       "2                              0.0  ...         DEL     LKO     BOM      COK   \n",
       "3                              0.0  ...         CCU     NAG      BLR       0   \n",
       "4                              0.0  ...         BLR     NAG      DEL       0   \n",
       "\n",
       "  Route_4 Route_5 Dep_Time_Hr Dep_Time_Min Arrival_Time_Hr Arrival_Time_Min  \n",
       "0       0       0          22           20               1               10  \n",
       "1       0       0           5           50              13               15  \n",
       "2       0       0           9           25               4               25  \n",
       "3       0       0          18            5              23               30  \n",
       "4       0       0          16           50              21               35  \n",
       "\n",
       "[5 rows x 30 columns]"
      ]
     },
     "execution_count": 82,
     "metadata": {},
     "output_type": "execute_result"
    }
   ],
   "source": [
    "df.head()"
   ]
  },
  {
   "cell_type": "code",
   "execution_count": 83,
   "id": "43f7ac19",
   "metadata": {
    "scrolled": true
   },
   "outputs": [
    {
     "data": {
      "text/plain": [
       "Index(['onehotencoder__x0_1 Long layover', 'onehotencoder__x0_1 Short layover',\n",
       "       'onehotencoder__x0_2 Long layover', 'onehotencoder__x0_Business class',\n",
       "       'onehotencoder__x0_Change airports',\n",
       "       'onehotencoder__x0_In-flight meal not included',\n",
       "       'onehotencoder__x0_No Info',\n",
       "       'onehotencoder__x0_No check-in baggage included',\n",
       "       'onehotencoder__x0_No info', 'onehotencoder__x0_Red-eye flight',\n",
       "       'Airline', 'Source', 'Destination', 'Duration', 'Total_Stops', 'Price',\n",
       "       'day_name', 'day', 'month', 'quarter', 'Source_Route', 'Route_1',\n",
       "       'Route_2', 'Route_3', 'Route_4', 'Route_5', 'Dep_Time_Hr',\n",
       "       'Dep_Time_Min', 'Arrival_Time_Hr', 'Arrival_Time_Min'],\n",
       "      dtype='object')"
      ]
     },
     "execution_count": 83,
     "metadata": {},
     "output_type": "execute_result"
    }
   ],
   "source": [
    "df.columns"
   ]
  },
  {
   "cell_type": "code",
   "execution_count": 84,
   "id": "c91c4af8",
   "metadata": {},
   "outputs": [
    {
     "data": {
      "text/plain": [
       "\"columns = ['Long layover', 'Short layover',\\n       'Long layover', 'Business class',\\n       'Change airports',\\n       'In-flight meal not included',\\n       'No Info',\\n       'No check-in baggage included',\\n       'No info', 'Red-eye flight',\\n       'Airline', 'Source', 'Destination', 'Duration', 'Total_Stops', 'Price',\\n       'day_name', 'day', 'month', 'quarter', 'Source_Route', 'Route_1',\\n       'Route_2', 'Route_3', 'Route_4', 'Route_5', 'Dep_Time_Hr',\\n       'Dep_Time_Min', 'Arrival_Time_Hr', 'Arrival_Time_Min']\\ndf.columns = columns\""
      ]
     },
     "execution_count": 84,
     "metadata": {},
     "output_type": "execute_result"
    }
   ],
   "source": [
    "'''columns = ['Long layover', 'Short layover',\n",
    "       'Long layover', 'Business class',\n",
    "       'Change airports',\n",
    "       'In-flight meal not included',\n",
    "       'No Info',\n",
    "       'No check-in baggage included',\n",
    "       'No info', 'Red-eye flight',\n",
    "       'Airline', 'Source', 'Destination', 'Duration', 'Total_Stops', 'Price',\n",
    "       'day_name', 'day', 'month', 'quarter', 'Source_Route', 'Route_1',\n",
    "       'Route_2', 'Route_3', 'Route_4', 'Route_5', 'Dep_Time_Hr',\n",
    "       'Dep_Time_Min', 'Arrival_Time_Hr', 'Arrival_Time_Min']\n",
    "df.columns = columns'''"
   ]
  },
  {
   "cell_type": "code",
   "execution_count": 85,
   "id": "7e4f6220",
   "metadata": {},
   "outputs": [
    {
     "data": {
      "text/plain": [
       "Index(['onehotencoder__x0_1 Long layover', 'onehotencoder__x0_1 Short layover',\n",
       "       'onehotencoder__x0_2 Long layover', 'onehotencoder__x0_Business class',\n",
       "       'onehotencoder__x0_Change airports',\n",
       "       'onehotencoder__x0_In-flight meal not included',\n",
       "       'onehotencoder__x0_No Info',\n",
       "       'onehotencoder__x0_No check-in baggage included',\n",
       "       'onehotencoder__x0_No info', 'onehotencoder__x0_Red-eye flight',\n",
       "       'Airline', 'Source', 'Destination', 'Duration', 'Total_Stops', 'Price',\n",
       "       'day_name', 'day', 'month', 'quarter', 'Source_Route', 'Route_1',\n",
       "       'Route_2', 'Route_3', 'Route_4', 'Route_5', 'Dep_Time_Hr',\n",
       "       'Dep_Time_Min', 'Arrival_Time_Hr', 'Arrival_Time_Min'],\n",
       "      dtype='object')"
      ]
     },
     "execution_count": 85,
     "metadata": {},
     "output_type": "execute_result"
    }
   ],
   "source": [
    "df.columns"
   ]
  },
  {
   "cell_type": "code",
   "execution_count": null,
   "id": "89f89f0c",
   "metadata": {},
   "outputs": [],
   "source": []
  },
  {
   "cell_type": "code",
   "execution_count": 86,
   "id": "e557ac3d",
   "metadata": {},
   "outputs": [
    {
     "data": {
      "text/plain": [
       "['Airline',\n",
       " 'day_name',\n",
       " 'Source',\n",
       " 'Destination',\n",
       " 'Source_Route',\n",
       " 'Route_1',\n",
       " 'Route_2',\n",
       " 'Route_3',\n",
       " 'Route_4',\n",
       " 'Route_5']"
      ]
     },
     "execution_count": 86,
     "metadata": {},
     "output_type": "execute_result"
    }
   ],
   "source": [
    "colum_required_encoding"
   ]
  },
  {
   "cell_type": "code",
   "execution_count": 91,
   "id": "9fa2070c",
   "metadata": {},
   "outputs": [],
   "source": [
    "from sklearn.preprocessing import OrdinalEncoder\n",
    "ordinal_encoder = make_column_transformer(\n",
    "                                                    (OrdinalEncoder(), ['Airline',\n",
    "                                                                        'day_name',\n",
    "                                                                        'Source',\n",
    "                                                                        'Destination',\n",
    "                                                                        'Source_Route',\n",
    "                                                                        'Route_1',\n",
    "                                                                        'Route_2',\n",
    "                                                                        'Route_3',\n",
    "                                                                        'Route_4',\n",
    "                                                                        'Route_5',]),\n",
    "                                                    remainder='passthrough'\n",
    "                                                    )\n",
    "df = pd.DataFrame(ordinal_encoder.fit_transform(df),columns=df.columns)"
   ]
  },
  {
   "cell_type": "code",
   "execution_count": 92,
   "id": "9684780d",
   "metadata": {},
   "outputs": [
    {
     "data": {
      "text/html": [
       "<div>\n",
       "<style scoped>\n",
       "    .dataframe tbody tr th:only-of-type {\n",
       "        vertical-align: middle;\n",
       "    }\n",
       "\n",
       "    .dataframe tbody tr th {\n",
       "        vertical-align: top;\n",
       "    }\n",
       "\n",
       "    .dataframe thead th {\n",
       "        text-align: right;\n",
       "    }\n",
       "</style>\n",
       "<table border=\"1\" class=\"dataframe\">\n",
       "  <thead>\n",
       "    <tr style=\"text-align: right;\">\n",
       "      <th></th>\n",
       "      <th>onehotencoder__x0_1 Long layover</th>\n",
       "      <th>onehotencoder__x0_1 Short layover</th>\n",
       "      <th>onehotencoder__x0_2 Long layover</th>\n",
       "      <th>onehotencoder__x0_Business class</th>\n",
       "      <th>onehotencoder__x0_Change airports</th>\n",
       "      <th>onehotencoder__x0_In-flight meal not included</th>\n",
       "      <th>onehotencoder__x0_No Info</th>\n",
       "      <th>onehotencoder__x0_No check-in baggage included</th>\n",
       "      <th>onehotencoder__x0_No info</th>\n",
       "      <th>onehotencoder__x0_Red-eye flight</th>\n",
       "      <th>...</th>\n",
       "      <th>Source_Route</th>\n",
       "      <th>Route_1</th>\n",
       "      <th>Route_2</th>\n",
       "      <th>Route_3</th>\n",
       "      <th>Route_4</th>\n",
       "      <th>Route_5</th>\n",
       "      <th>Dep_Time_Hr</th>\n",
       "      <th>Dep_Time_Min</th>\n",
       "      <th>Arrival_Time_Hr</th>\n",
       "      <th>Arrival_Time_Min</th>\n",
       "    </tr>\n",
       "  </thead>\n",
       "  <tbody>\n",
       "    <tr>\n",
       "      <th>0</th>\n",
       "      <td>3.0</td>\n",
       "      <td>3.0</td>\n",
       "      <td>0.0</td>\n",
       "      <td>2.0</td>\n",
       "      <td>0.0</td>\n",
       "      <td>13.0</td>\n",
       "      <td>29.0</td>\n",
       "      <td>13.0</td>\n",
       "      <td>5.0</td>\n",
       "      <td>1.0</td>\n",
       "      <td>...</td>\n",
       "      <td>170</td>\n",
       "      <td>0</td>\n",
       "      <td>3897</td>\n",
       "      <td>24</td>\n",
       "      <td>3</td>\n",
       "      <td>1</td>\n",
       "      <td>22</td>\n",
       "      <td>20</td>\n",
       "      <td>1</td>\n",
       "      <td>10</td>\n",
       "    </tr>\n",
       "    <tr>\n",
       "      <th>1</th>\n",
       "      <td>1.0</td>\n",
       "      <td>2.0</td>\n",
       "      <td>3.0</td>\n",
       "      <td>0.0</td>\n",
       "      <td>2.0</td>\n",
       "      <td>25.0</td>\n",
       "      <td>1.0</td>\n",
       "      <td>3.0</td>\n",
       "      <td>5.0</td>\n",
       "      <td>1.0</td>\n",
       "      <td>...</td>\n",
       "      <td>445</td>\n",
       "      <td>2</td>\n",
       "      <td>7662</td>\n",
       "      <td>5</td>\n",
       "      <td>1</td>\n",
       "      <td>1</td>\n",
       "      <td>5</td>\n",
       "      <td>50</td>\n",
       "      <td>13</td>\n",
       "      <td>15</td>\n",
       "    </tr>\n",
       "    <tr>\n",
       "      <th>2</th>\n",
       "      <td>4.0</td>\n",
       "      <td>0.0</td>\n",
       "      <td>2.0</td>\n",
       "      <td>1.0</td>\n",
       "      <td>3.0</td>\n",
       "      <td>32.0</td>\n",
       "      <td>4.0</td>\n",
       "      <td>5.0</td>\n",
       "      <td>5.0</td>\n",
       "      <td>1.0</td>\n",
       "      <td>...</td>\n",
       "      <td>1140</td>\n",
       "      <td>2</td>\n",
       "      <td>13882</td>\n",
       "      <td>6</td>\n",
       "      <td>9</td>\n",
       "      <td>3</td>\n",
       "      <td>9</td>\n",
       "      <td>25</td>\n",
       "      <td>4</td>\n",
       "      <td>25</td>\n",
       "    </tr>\n",
       "    <tr>\n",
       "      <th>3</th>\n",
       "      <td>3.0</td>\n",
       "      <td>4.0</td>\n",
       "      <td>3.0</td>\n",
       "      <td>0.0</td>\n",
       "      <td>2.0</td>\n",
       "      <td>34.0</td>\n",
       "      <td>3.0</td>\n",
       "      <td>13.0</td>\n",
       "      <td>5.0</td>\n",
       "      <td>1.0</td>\n",
       "      <td>...</td>\n",
       "      <td>325</td>\n",
       "      <td>1</td>\n",
       "      <td>6218</td>\n",
       "      <td>5</td>\n",
       "      <td>12</td>\n",
       "      <td>4</td>\n",
       "      <td>18</td>\n",
       "      <td>5</td>\n",
       "      <td>23</td>\n",
       "      <td>30</td>\n",
       "    </tr>\n",
       "    <tr>\n",
       "      <th>4</th>\n",
       "      <td>3.0</td>\n",
       "      <td>4.0</td>\n",
       "      <td>0.0</td>\n",
       "      <td>2.0</td>\n",
       "      <td>0.0</td>\n",
       "      <td>34.0</td>\n",
       "      <td>8.0</td>\n",
       "      <td>13.0</td>\n",
       "      <td>5.0</td>\n",
       "      <td>1.0</td>\n",
       "      <td>...</td>\n",
       "      <td>285</td>\n",
       "      <td>1</td>\n",
       "      <td>13302</td>\n",
       "      <td>3</td>\n",
       "      <td>1</td>\n",
       "      <td>1</td>\n",
       "      <td>16</td>\n",
       "      <td>50</td>\n",
       "      <td>21</td>\n",
       "      <td>35</td>\n",
       "    </tr>\n",
       "  </tbody>\n",
       "</table>\n",
       "<p>5 rows × 30 columns</p>\n",
       "</div>"
      ],
      "text/plain": [
       "  onehotencoder__x0_1 Long layover onehotencoder__x0_1 Short layover  \\\n",
       "0                              3.0                               3.0   \n",
       "1                              1.0                               2.0   \n",
       "2                              4.0                               0.0   \n",
       "3                              3.0                               4.0   \n",
       "4                              3.0                               4.0   \n",
       "\n",
       "  onehotencoder__x0_2 Long layover onehotencoder__x0_Business class  \\\n",
       "0                              0.0                              2.0   \n",
       "1                              3.0                              0.0   \n",
       "2                              2.0                              1.0   \n",
       "3                              3.0                              0.0   \n",
       "4                              0.0                              2.0   \n",
       "\n",
       "  onehotencoder__x0_Change airports  \\\n",
       "0                               0.0   \n",
       "1                               2.0   \n",
       "2                               3.0   \n",
       "3                               2.0   \n",
       "4                               0.0   \n",
       "\n",
       "  onehotencoder__x0_In-flight meal not included onehotencoder__x0_No Info  \\\n",
       "0                                          13.0                      29.0   \n",
       "1                                          25.0                       1.0   \n",
       "2                                          32.0                       4.0   \n",
       "3                                          34.0                       3.0   \n",
       "4                                          34.0                       8.0   \n",
       "\n",
       "  onehotencoder__x0_No check-in baggage included onehotencoder__x0_No info  \\\n",
       "0                                           13.0                       5.0   \n",
       "1                                            3.0                       5.0   \n",
       "2                                            5.0                       5.0   \n",
       "3                                           13.0                       5.0   \n",
       "4                                           13.0                       5.0   \n",
       "\n",
       "  onehotencoder__x0_Red-eye flight  ... Source_Route Route_1 Route_2 Route_3  \\\n",
       "0                              1.0  ...          170       0    3897      24   \n",
       "1                              1.0  ...          445       2    7662       5   \n",
       "2                              1.0  ...         1140       2   13882       6   \n",
       "3                              1.0  ...          325       1    6218       5   \n",
       "4                              1.0  ...          285       1   13302       3   \n",
       "\n",
       "  Route_4 Route_5 Dep_Time_Hr Dep_Time_Min Arrival_Time_Hr Arrival_Time_Min  \n",
       "0       3       1          22           20               1               10  \n",
       "1       1       1           5           50              13               15  \n",
       "2       9       3           9           25               4               25  \n",
       "3      12       4          18            5              23               30  \n",
       "4       1       1          16           50              21               35  \n",
       "\n",
       "[5 rows x 30 columns]"
      ]
     },
     "execution_count": 92,
     "metadata": {},
     "output_type": "execute_result"
    }
   ],
   "source": [
    "df.head()"
   ]
  },
  {
   "cell_type": "code",
   "execution_count": 93,
   "id": "a51f01ec",
   "metadata": {},
   "outputs": [
    {
     "name": "stdout",
     "output_type": "stream",
     "text": [
      "<class 'pandas.core.frame.DataFrame'>\n",
      "RangeIndex: 10461 entries, 0 to 10460\n",
      "Data columns (total 30 columns):\n",
      " #   Column                                          Non-Null Count  Dtype \n",
      "---  ------                                          --------------  ----- \n",
      " 0   onehotencoder__x0_1 Long layover                10461 non-null  object\n",
      " 1   onehotencoder__x0_1 Short layover               10461 non-null  object\n",
      " 2   onehotencoder__x0_2 Long layover                10461 non-null  object\n",
      " 3   onehotencoder__x0_Business class                10461 non-null  object\n",
      " 4   onehotencoder__x0_Change airports               10461 non-null  object\n",
      " 5   onehotencoder__x0_In-flight meal not included   10461 non-null  object\n",
      " 6   onehotencoder__x0_No Info                       10461 non-null  object\n",
      " 7   onehotencoder__x0_No check-in baggage included  10461 non-null  object\n",
      " 8   onehotencoder__x0_No info                       10461 non-null  object\n",
      " 9   onehotencoder__x0_Red-eye flight                10461 non-null  object\n",
      " 10  Airline                                         10461 non-null  object\n",
      " 11  Source                                          10461 non-null  object\n",
      " 12  Destination                                     10461 non-null  object\n",
      " 13  Duration                                        10461 non-null  object\n",
      " 14  Total_Stops                                     10461 non-null  object\n",
      " 15  Price                                           10461 non-null  object\n",
      " 16  day_name                                        10461 non-null  object\n",
      " 17  day                                             10461 non-null  object\n",
      " 18  month                                           10461 non-null  object\n",
      " 19  quarter                                         10461 non-null  object\n",
      " 20  Source_Route                                    10461 non-null  object\n",
      " 21  Route_1                                         10461 non-null  object\n",
      " 22  Route_2                                         10461 non-null  object\n",
      " 23  Route_3                                         10461 non-null  object\n",
      " 24  Route_4                                         10461 non-null  object\n",
      " 25  Route_5                                         10461 non-null  object\n",
      " 26  Dep_Time_Hr                                     10461 non-null  object\n",
      " 27  Dep_Time_Min                                    10461 non-null  object\n",
      " 28  Arrival_Time_Hr                                 10461 non-null  object\n",
      " 29  Arrival_Time_Min                                10461 non-null  object\n",
      "dtypes: object(30)\n",
      "memory usage: 2.4+ MB\n"
     ]
    }
   ],
   "source": [
    "df.info()"
   ]
  },
  {
   "cell_type": "code",
   "execution_count": 95,
   "id": "647a37bc",
   "metadata": {},
   "outputs": [],
   "source": [
    "for col in df.columns:\n",
    "    df[col] = df[col].astype(float)"
   ]
  },
  {
   "cell_type": "code",
   "execution_count": 96,
   "id": "47fbf758",
   "metadata": {},
   "outputs": [
    {
     "name": "stdout",
     "output_type": "stream",
     "text": [
      "<class 'pandas.core.frame.DataFrame'>\n",
      "RangeIndex: 10461 entries, 0 to 10460\n",
      "Data columns (total 30 columns):\n",
      " #   Column                                          Non-Null Count  Dtype  \n",
      "---  ------                                          --------------  -----  \n",
      " 0   onehotencoder__x0_1 Long layover                10461 non-null  float64\n",
      " 1   onehotencoder__x0_1 Short layover               10461 non-null  float64\n",
      " 2   onehotencoder__x0_2 Long layover                10461 non-null  float64\n",
      " 3   onehotencoder__x0_Business class                10461 non-null  float64\n",
      " 4   onehotencoder__x0_Change airports               10461 non-null  float64\n",
      " 5   onehotencoder__x0_In-flight meal not included   10461 non-null  float64\n",
      " 6   onehotencoder__x0_No Info                       10461 non-null  float64\n",
      " 7   onehotencoder__x0_No check-in baggage included  10461 non-null  float64\n",
      " 8   onehotencoder__x0_No info                       10461 non-null  float64\n",
      " 9   onehotencoder__x0_Red-eye flight                10461 non-null  float64\n",
      " 10  Airline                                         10461 non-null  float64\n",
      " 11  Source                                          10461 non-null  float64\n",
      " 12  Destination                                     10461 non-null  float64\n",
      " 13  Duration                                        10461 non-null  float64\n",
      " 14  Total_Stops                                     10461 non-null  float64\n",
      " 15  Price                                           10461 non-null  float64\n",
      " 16  day_name                                        10461 non-null  float64\n",
      " 17  day                                             10461 non-null  float64\n",
      " 18  month                                           10461 non-null  float64\n",
      " 19  quarter                                         10461 non-null  float64\n",
      " 20  Source_Route                                    10461 non-null  float64\n",
      " 21  Route_1                                         10461 non-null  float64\n",
      " 22  Route_2                                         10461 non-null  float64\n",
      " 23  Route_3                                         10461 non-null  float64\n",
      " 24  Route_4                                         10461 non-null  float64\n",
      " 25  Route_5                                         10461 non-null  float64\n",
      " 26  Dep_Time_Hr                                     10461 non-null  float64\n",
      " 27  Dep_Time_Min                                    10461 non-null  float64\n",
      " 28  Arrival_Time_Hr                                 10461 non-null  float64\n",
      " 29  Arrival_Time_Min                                10461 non-null  float64\n",
      "dtypes: float64(30)\n",
      "memory usage: 2.4 MB\n"
     ]
    }
   ],
   "source": [
    "df.info()"
   ]
  },
  {
   "cell_type": "code",
   "execution_count": 97,
   "id": "ffa72cae",
   "metadata": {},
   "outputs": [
    {
     "data": {
      "text/html": [
       "<div>\n",
       "<style scoped>\n",
       "    .dataframe tbody tr th:only-of-type {\n",
       "        vertical-align: middle;\n",
       "    }\n",
       "\n",
       "    .dataframe tbody tr th {\n",
       "        vertical-align: top;\n",
       "    }\n",
       "\n",
       "    .dataframe thead th {\n",
       "        text-align: right;\n",
       "    }\n",
       "</style>\n",
       "<table border=\"1\" class=\"dataframe\">\n",
       "  <thead>\n",
       "    <tr style=\"text-align: right;\">\n",
       "      <th></th>\n",
       "      <th>onehotencoder__x0_1 Long layover</th>\n",
       "      <th>onehotencoder__x0_1 Short layover</th>\n",
       "      <th>onehotencoder__x0_2 Long layover</th>\n",
       "      <th>onehotencoder__x0_Business class</th>\n",
       "      <th>onehotencoder__x0_Change airports</th>\n",
       "      <th>onehotencoder__x0_In-flight meal not included</th>\n",
       "      <th>onehotencoder__x0_No Info</th>\n",
       "      <th>onehotencoder__x0_No check-in baggage included</th>\n",
       "      <th>onehotencoder__x0_No info</th>\n",
       "      <th>onehotencoder__x0_Red-eye flight</th>\n",
       "      <th>...</th>\n",
       "      <th>Source_Route</th>\n",
       "      <th>Route_1</th>\n",
       "      <th>Route_2</th>\n",
       "      <th>Route_3</th>\n",
       "      <th>Route_4</th>\n",
       "      <th>Route_5</th>\n",
       "      <th>Dep_Time_Hr</th>\n",
       "      <th>Dep_Time_Min</th>\n",
       "      <th>Arrival_Time_Hr</th>\n",
       "      <th>Arrival_Time_Min</th>\n",
       "    </tr>\n",
       "  </thead>\n",
       "  <tbody>\n",
       "    <tr>\n",
       "      <th>onehotencoder__x0_1 Long layover</th>\n",
       "      <td>1.000000</td>\n",
       "      <td>-0.001693</td>\n",
       "      <td>-0.011966</td>\n",
       "      <td>0.068864</td>\n",
       "      <td>0.039740</td>\n",
       "      <td>-0.063681</td>\n",
       "      <td>0.056605</td>\n",
       "      <td>0.261453</td>\n",
       "      <td>0.055129</td>\n",
       "      <td>0.012329</td>\n",
       "      <td>...</td>\n",
       "      <td>-0.153792</td>\n",
       "      <td>-0.194376</td>\n",
       "      <td>-0.036283</td>\n",
       "      <td>0.031788</td>\n",
       "      <td>-0.008662</td>\n",
       "      <td>-0.009133</td>\n",
       "      <td>-0.032196</td>\n",
       "      <td>-0.062267</td>\n",
       "      <td>-0.005393</td>\n",
       "      <td>-0.072842</td>\n",
       "    </tr>\n",
       "    <tr>\n",
       "      <th>onehotencoder__x0_1 Short layover</th>\n",
       "      <td>-0.001693</td>\n",
       "      <td>1.000000</td>\n",
       "      <td>-0.039332</td>\n",
       "      <td>0.010618</td>\n",
       "      <td>0.017104</td>\n",
       "      <td>-0.008615</td>\n",
       "      <td>0.023505</td>\n",
       "      <td>0.008076</td>\n",
       "      <td>0.003000</td>\n",
       "      <td>-0.004755</td>\n",
       "      <td>...</td>\n",
       "      <td>-0.020336</td>\n",
       "      <td>-0.017284</td>\n",
       "      <td>-0.024404</td>\n",
       "      <td>-0.024983</td>\n",
       "      <td>-0.071987</td>\n",
       "      <td>-0.105416</td>\n",
       "      <td>-0.007727</td>\n",
       "      <td>-0.001791</td>\n",
       "      <td>-0.008547</td>\n",
       "      <td>0.003890</td>\n",
       "    </tr>\n",
       "    <tr>\n",
       "      <th>onehotencoder__x0_2 Long layover</th>\n",
       "      <td>-0.011966</td>\n",
       "      <td>-0.039332</td>\n",
       "      <td>1.000000</td>\n",
       "      <td>-0.433030</td>\n",
       "      <td>0.437722</td>\n",
       "      <td>0.036603</td>\n",
       "      <td>-0.269847</td>\n",
       "      <td>-0.075468</td>\n",
       "      <td>-0.008356</td>\n",
       "      <td>0.016102</td>\n",
       "      <td>...</td>\n",
       "      <td>0.163049</td>\n",
       "      <td>0.193962</td>\n",
       "      <td>0.013504</td>\n",
       "      <td>0.008015</td>\n",
       "      <td>0.062725</td>\n",
       "      <td>0.067766</td>\n",
       "      <td>0.060127</td>\n",
       "      <td>-0.056847</td>\n",
       "      <td>0.028198</td>\n",
       "      <td>0.021097</td>\n",
       "    </tr>\n",
       "    <tr>\n",
       "      <th>onehotencoder__x0_Business class</th>\n",
       "      <td>0.068864</td>\n",
       "      <td>0.010618</td>\n",
       "      <td>-0.433030</td>\n",
       "      <td>1.000000</td>\n",
       "      <td>-0.268845</td>\n",
       "      <td>0.133640</td>\n",
       "      <td>0.558523</td>\n",
       "      <td>0.137110</td>\n",
       "      <td>0.019957</td>\n",
       "      <td>-0.007873</td>\n",
       "      <td>...</td>\n",
       "      <td>-0.383647</td>\n",
       "      <td>-0.423096</td>\n",
       "      <td>-0.261136</td>\n",
       "      <td>0.007375</td>\n",
       "      <td>-0.069273</td>\n",
       "      <td>-0.095194</td>\n",
       "      <td>-0.089193</td>\n",
       "      <td>0.096649</td>\n",
       "      <td>-0.061669</td>\n",
       "      <td>0.006943</td>\n",
       "    </tr>\n",
       "    <tr>\n",
       "      <th>onehotencoder__x0_Change airports</th>\n",
       "      <td>0.039740</td>\n",
       "      <td>0.017104</td>\n",
       "      <td>0.437722</td>\n",
       "      <td>-0.268845</td>\n",
       "      <td>1.000000</td>\n",
       "      <td>-0.098730</td>\n",
       "      <td>-0.467079</td>\n",
       "      <td>-0.176939</td>\n",
       "      <td>-0.013073</td>\n",
       "      <td>0.016221</td>\n",
       "      <td>...</td>\n",
       "      <td>0.276176</td>\n",
       "      <td>0.417377</td>\n",
       "      <td>0.173683</td>\n",
       "      <td>0.089435</td>\n",
       "      <td>0.042319</td>\n",
       "      <td>0.026837</td>\n",
       "      <td>-0.047416</td>\n",
       "      <td>-0.074782</td>\n",
       "      <td>0.021545</td>\n",
       "      <td>-0.172673</td>\n",
       "    </tr>\n",
       "    <tr>\n",
       "      <th>onehotencoder__x0_In-flight meal not included</th>\n",
       "      <td>-0.063681</td>\n",
       "      <td>-0.008615</td>\n",
       "      <td>0.036603</td>\n",
       "      <td>0.133640</td>\n",
       "      <td>-0.098730</td>\n",
       "      <td>1.000000</td>\n",
       "      <td>0.007073</td>\n",
       "      <td>-0.253016</td>\n",
       "      <td>-0.084060</td>\n",
       "      <td>0.003475</td>\n",
       "      <td>...</td>\n",
       "      <td>0.021837</td>\n",
       "      <td>0.146462</td>\n",
       "      <td>-0.098500</td>\n",
       "      <td>-0.016614</td>\n",
       "      <td>0.002768</td>\n",
       "      <td>0.001303</td>\n",
       "      <td>-0.106507</td>\n",
       "      <td>0.082951</td>\n",
       "      <td>0.000572</td>\n",
       "      <td>0.043792</td>\n",
       "    </tr>\n",
       "    <tr>\n",
       "      <th>onehotencoder__x0_No Info</th>\n",
       "      <td>0.056605</td>\n",
       "      <td>0.023505</td>\n",
       "      <td>-0.269847</td>\n",
       "      <td>0.558523</td>\n",
       "      <td>-0.467079</td>\n",
       "      <td>0.007073</td>\n",
       "      <td>1.000000</td>\n",
       "      <td>0.218500</td>\n",
       "      <td>-0.014830</td>\n",
       "      <td>0.010680</td>\n",
       "      <td>...</td>\n",
       "      <td>-0.652873</td>\n",
       "      <td>-0.803700</td>\n",
       "      <td>-0.588385</td>\n",
       "      <td>0.039063</td>\n",
       "      <td>-0.068355</td>\n",
       "      <td>-0.065568</td>\n",
       "      <td>0.017322</td>\n",
       "      <td>0.049658</td>\n",
       "      <td>-0.088974</td>\n",
       "      <td>0.160290</td>\n",
       "    </tr>\n",
       "    <tr>\n",
       "      <th>onehotencoder__x0_No check-in baggage included</th>\n",
       "      <td>0.261453</td>\n",
       "      <td>0.008076</td>\n",
       "      <td>-0.075468</td>\n",
       "      <td>0.137110</td>\n",
       "      <td>-0.176939</td>\n",
       "      <td>-0.253016</td>\n",
       "      <td>0.218500</td>\n",
       "      <td>1.000000</td>\n",
       "      <td>0.135002</td>\n",
       "      <td>0.006688</td>\n",
       "      <td>...</td>\n",
       "      <td>-0.453021</td>\n",
       "      <td>-0.709039</td>\n",
       "      <td>-0.302620</td>\n",
       "      <td>-0.001191</td>\n",
       "      <td>-0.040345</td>\n",
       "      <td>-0.032398</td>\n",
       "      <td>0.055766</td>\n",
       "      <td>-0.045925</td>\n",
       "      <td>0.035825</td>\n",
       "      <td>-0.028541</td>\n",
       "    </tr>\n",
       "    <tr>\n",
       "      <th>onehotencoder__x0_No info</th>\n",
       "      <td>0.055129</td>\n",
       "      <td>0.003000</td>\n",
       "      <td>-0.008356</td>\n",
       "      <td>0.019957</td>\n",
       "      <td>-0.013073</td>\n",
       "      <td>-0.084060</td>\n",
       "      <td>-0.014830</td>\n",
       "      <td>0.135002</td>\n",
       "      <td>1.000000</td>\n",
       "      <td>0.036855</td>\n",
       "      <td>...</td>\n",
       "      <td>-0.111951</td>\n",
       "      <td>-0.211459</td>\n",
       "      <td>-0.057622</td>\n",
       "      <td>0.013010</td>\n",
       "      <td>-0.009360</td>\n",
       "      <td>-0.009550</td>\n",
       "      <td>0.044763</td>\n",
       "      <td>0.004121</td>\n",
       "      <td>-0.025117</td>\n",
       "      <td>0.018157</td>\n",
       "    </tr>\n",
       "    <tr>\n",
       "      <th>onehotencoder__x0_Red-eye flight</th>\n",
       "      <td>0.012329</td>\n",
       "      <td>-0.004755</td>\n",
       "      <td>0.016102</td>\n",
       "      <td>-0.007873</td>\n",
       "      <td>0.016221</td>\n",
       "      <td>0.003475</td>\n",
       "      <td>0.010680</td>\n",
       "      <td>0.006688</td>\n",
       "      <td>0.036855</td>\n",
       "      <td>1.000000</td>\n",
       "      <td>...</td>\n",
       "      <td>-0.022267</td>\n",
       "      <td>-0.047338</td>\n",
       "      <td>-0.018311</td>\n",
       "      <td>0.010712</td>\n",
       "      <td>0.014802</td>\n",
       "      <td>0.010962</td>\n",
       "      <td>0.012767</td>\n",
       "      <td>-0.013303</td>\n",
       "      <td>0.003405</td>\n",
       "      <td>0.002784</td>\n",
       "    </tr>\n",
       "    <tr>\n",
       "      <th>Airline</th>\n",
       "      <td>-0.012957</td>\n",
       "      <td>0.017472</td>\n",
       "      <td>-0.066464</td>\n",
       "      <td>0.032149</td>\n",
       "      <td>-0.065194</td>\n",
       "      <td>-0.007136</td>\n",
       "      <td>-0.020639</td>\n",
       "      <td>0.016292</td>\n",
       "      <td>0.002704</td>\n",
       "      <td>0.000417</td>\n",
       "      <td>...</td>\n",
       "      <td>0.024677</td>\n",
       "      <td>0.012773</td>\n",
       "      <td>0.120693</td>\n",
       "      <td>-0.041369</td>\n",
       "      <td>-0.060829</td>\n",
       "      <td>-0.045318</td>\n",
       "      <td>0.003495</td>\n",
       "      <td>0.029397</td>\n",
       "      <td>-0.000773</td>\n",
       "      <td>0.009537</td>\n",
       "    </tr>\n",
       "    <tr>\n",
       "      <th>Source</th>\n",
       "      <td>-0.012329</td>\n",
       "      <td>0.004755</td>\n",
       "      <td>-0.016102</td>\n",
       "      <td>0.007873</td>\n",
       "      <td>-0.016221</td>\n",
       "      <td>-0.005971</td>\n",
       "      <td>-0.009817</td>\n",
       "      <td>-0.020585</td>\n",
       "      <td>0.000620</td>\n",
       "      <td>0.000096</td>\n",
       "      <td>...</td>\n",
       "      <td>0.004788</td>\n",
       "      <td>0.017731</td>\n",
       "      <td>0.037462</td>\n",
       "      <td>-0.010712</td>\n",
       "      <td>-0.014802</td>\n",
       "      <td>-0.010962</td>\n",
       "      <td>-0.007645</td>\n",
       "      <td>0.013303</td>\n",
       "      <td>0.013710</td>\n",
       "      <td>0.000167</td>\n",
       "    </tr>\n",
       "    <tr>\n",
       "      <th>Destination</th>\n",
       "      <td>-0.012329</td>\n",
       "      <td>0.004755</td>\n",
       "      <td>-0.016102</td>\n",
       "      <td>0.007873</td>\n",
       "      <td>-0.016221</td>\n",
       "      <td>-0.005971</td>\n",
       "      <td>-0.009817</td>\n",
       "      <td>-0.020585</td>\n",
       "      <td>0.000620</td>\n",
       "      <td>0.000096</td>\n",
       "      <td>...</td>\n",
       "      <td>0.018947</td>\n",
       "      <td>0.017731</td>\n",
       "      <td>0.036906</td>\n",
       "      <td>-0.010712</td>\n",
       "      <td>-0.014802</td>\n",
       "      <td>-0.010962</td>\n",
       "      <td>-0.011060</td>\n",
       "      <td>0.010704</td>\n",
       "      <td>-0.006258</td>\n",
       "      <td>0.000167</td>\n",
       "    </tr>\n",
       "    <tr>\n",
       "      <th>Duration</th>\n",
       "      <td>0.006358</td>\n",
       "      <td>0.009512</td>\n",
       "      <td>-0.032210</td>\n",
       "      <td>0.015748</td>\n",
       "      <td>-0.032447</td>\n",
       "      <td>0.001787</td>\n",
       "      <td>-0.009281</td>\n",
       "      <td>0.007470</td>\n",
       "      <td>0.001240</td>\n",
       "      <td>0.000191</td>\n",
       "      <td>...</td>\n",
       "      <td>-0.010834</td>\n",
       "      <td>0.005856</td>\n",
       "      <td>0.202111</td>\n",
       "      <td>-0.021427</td>\n",
       "      <td>-0.029608</td>\n",
       "      <td>-0.021928</td>\n",
       "      <td>-0.022123</td>\n",
       "      <td>0.022711</td>\n",
       "      <td>-0.003245</td>\n",
       "      <td>-0.001142</td>\n",
       "    </tr>\n",
       "    <tr>\n",
       "      <th>Total_Stops</th>\n",
       "      <td>-0.032628</td>\n",
       "      <td>0.012584</td>\n",
       "      <td>-0.042615</td>\n",
       "      <td>0.020835</td>\n",
       "      <td>-0.042929</td>\n",
       "      <td>0.018645</td>\n",
       "      <td>-0.009018</td>\n",
       "      <td>-0.030835</td>\n",
       "      <td>-0.012528</td>\n",
       "      <td>-0.377856</td>\n",
       "      <td>...</td>\n",
       "      <td>0.017101</td>\n",
       "      <td>0.046926</td>\n",
       "      <td>0.043507</td>\n",
       "      <td>-0.028349</td>\n",
       "      <td>-0.039174</td>\n",
       "      <td>-0.029012</td>\n",
       "      <td>-0.011842</td>\n",
       "      <td>0.012611</td>\n",
       "      <td>0.021724</td>\n",
       "      <td>0.001558</td>\n",
       "    </tr>\n",
       "    <tr>\n",
       "      <th>Price</th>\n",
       "      <td>0.023773</td>\n",
       "      <td>-0.036953</td>\n",
       "      <td>0.049418</td>\n",
       "      <td>-0.104112</td>\n",
       "      <td>0.011886</td>\n",
       "      <td>-0.099129</td>\n",
       "      <td>-0.197741</td>\n",
       "      <td>0.045514</td>\n",
       "      <td>0.030109</td>\n",
       "      <td>0.004645</td>\n",
       "      <td>...</td>\n",
       "      <td>0.193480</td>\n",
       "      <td>0.101916</td>\n",
       "      <td>0.042083</td>\n",
       "      <td>0.031890</td>\n",
       "      <td>0.038737</td>\n",
       "      <td>0.037364</td>\n",
       "      <td>0.066497</td>\n",
       "      <td>-0.005562</td>\n",
       "      <td>-0.011160</td>\n",
       "      <td>-0.048681</td>\n",
       "    </tr>\n",
       "    <tr>\n",
       "      <th>day_name</th>\n",
       "      <td>-0.007030</td>\n",
       "      <td>0.008237</td>\n",
       "      <td>-0.027893</td>\n",
       "      <td>0.013637</td>\n",
       "      <td>-0.028098</td>\n",
       "      <td>0.017763</td>\n",
       "      <td>-0.008037</td>\n",
       "      <td>0.006469</td>\n",
       "      <td>0.001074</td>\n",
       "      <td>0.000166</td>\n",
       "      <td>...</td>\n",
       "      <td>-0.011835</td>\n",
       "      <td>0.005072</td>\n",
       "      <td>-0.003594</td>\n",
       "      <td>-0.018555</td>\n",
       "      <td>-0.025640</td>\n",
       "      <td>-0.018989</td>\n",
       "      <td>-0.000428</td>\n",
       "      <td>0.003539</td>\n",
       "      <td>0.008925</td>\n",
       "      <td>0.003697</td>\n",
       "    </tr>\n",
       "    <tr>\n",
       "      <th>day</th>\n",
       "      <td>0.300940</td>\n",
       "      <td>0.001697</td>\n",
       "      <td>0.010705</td>\n",
       "      <td>0.106603</td>\n",
       "      <td>-0.032991</td>\n",
       "      <td>-0.007207</td>\n",
       "      <td>0.226025</td>\n",
       "      <td>0.067629</td>\n",
       "      <td>0.011223</td>\n",
       "      <td>0.001731</td>\n",
       "      <td>...</td>\n",
       "      <td>-0.170624</td>\n",
       "      <td>-0.201565</td>\n",
       "      <td>-0.206142</td>\n",
       "      <td>0.043914</td>\n",
       "      <td>-0.027696</td>\n",
       "      <td>-0.025632</td>\n",
       "      <td>-0.010019</td>\n",
       "      <td>0.062002</td>\n",
       "      <td>-0.090334</td>\n",
       "      <td>-0.003193</td>\n",
       "    </tr>\n",
       "    <tr>\n",
       "      <th>month</th>\n",
       "      <td>-0.143120</td>\n",
       "      <td>0.030269</td>\n",
       "      <td>-0.037507</td>\n",
       "      <td>0.046923</td>\n",
       "      <td>0.015815</td>\n",
       "      <td>0.095058</td>\n",
       "      <td>0.095252</td>\n",
       "      <td>-0.070331</td>\n",
       "      <td>-0.032574</td>\n",
       "      <td>0.018521</td>\n",
       "      <td>...</td>\n",
       "      <td>-0.113646</td>\n",
       "      <td>-0.017157</td>\n",
       "      <td>0.019766</td>\n",
       "      <td>-0.039620</td>\n",
       "      <td>-0.012616</td>\n",
       "      <td>-0.015331</td>\n",
       "      <td>-0.056795</td>\n",
       "      <td>-0.026179</td>\n",
       "      <td>0.046756</td>\n",
       "      <td>0.046047</td>\n",
       "    </tr>\n",
       "    <tr>\n",
       "      <th>quarter</th>\n",
       "      <td>-0.016464</td>\n",
       "      <td>0.004755</td>\n",
       "      <td>-0.016102</td>\n",
       "      <td>0.007873</td>\n",
       "      <td>-0.016221</td>\n",
       "      <td>0.001517</td>\n",
       "      <td>0.013480</td>\n",
       "      <td>0.003735</td>\n",
       "      <td>0.000620</td>\n",
       "      <td>0.000096</td>\n",
       "      <td>...</td>\n",
       "      <td>-0.009078</td>\n",
       "      <td>-0.011875</td>\n",
       "      <td>0.003905</td>\n",
       "      <td>-0.010712</td>\n",
       "      <td>-0.014802</td>\n",
       "      <td>-0.010962</td>\n",
       "      <td>0.017963</td>\n",
       "      <td>0.000310</td>\n",
       "      <td>-0.016241</td>\n",
       "      <td>-0.008685</td>\n",
       "    </tr>\n",
       "    <tr>\n",
       "      <th>Source_Route</th>\n",
       "      <td>-0.153792</td>\n",
       "      <td>-0.020336</td>\n",
       "      <td>0.163049</td>\n",
       "      <td>-0.383647</td>\n",
       "      <td>0.276176</td>\n",
       "      <td>0.021837</td>\n",
       "      <td>-0.652873</td>\n",
       "      <td>-0.453021</td>\n",
       "      <td>-0.111951</td>\n",
       "      <td>-0.022267</td>\n",
       "      <td>...</td>\n",
       "      <td>1.000000</td>\n",
       "      <td>0.728367</td>\n",
       "      <td>0.502087</td>\n",
       "      <td>-0.047394</td>\n",
       "      <td>0.056351</td>\n",
       "      <td>0.050304</td>\n",
       "      <td>-0.001212</td>\n",
       "      <td>-0.019066</td>\n",
       "      <td>0.061963</td>\n",
       "      <td>-0.070776</td>\n",
       "    </tr>\n",
       "    <tr>\n",
       "      <th>Route_1</th>\n",
       "      <td>-0.194376</td>\n",
       "      <td>-0.017284</td>\n",
       "      <td>0.193962</td>\n",
       "      <td>-0.423096</td>\n",
       "      <td>0.417377</td>\n",
       "      <td>0.146462</td>\n",
       "      <td>-0.803700</td>\n",
       "      <td>-0.709039</td>\n",
       "      <td>-0.211459</td>\n",
       "      <td>-0.047338</td>\n",
       "      <td>...</td>\n",
       "      <td>0.728367</td>\n",
       "      <td>1.000000</td>\n",
       "      <td>0.601889</td>\n",
       "      <td>-0.035188</td>\n",
       "      <td>0.065422</td>\n",
       "      <td>0.054299</td>\n",
       "      <td>-0.067641</td>\n",
       "      <td>-0.002932</td>\n",
       "      <td>0.051419</td>\n",
       "      <td>-0.107450</td>\n",
       "    </tr>\n",
       "    <tr>\n",
       "      <th>Route_2</th>\n",
       "      <td>-0.036283</td>\n",
       "      <td>-0.024404</td>\n",
       "      <td>0.013504</td>\n",
       "      <td>-0.261136</td>\n",
       "      <td>0.173683</td>\n",
       "      <td>-0.098500</td>\n",
       "      <td>-0.588385</td>\n",
       "      <td>-0.302620</td>\n",
       "      <td>-0.057622</td>\n",
       "      <td>-0.018311</td>\n",
       "      <td>...</td>\n",
       "      <td>0.502087</td>\n",
       "      <td>0.601889</td>\n",
       "      <td>1.000000</td>\n",
       "      <td>-0.170991</td>\n",
       "      <td>0.008636</td>\n",
       "      <td>0.011708</td>\n",
       "      <td>0.005050</td>\n",
       "      <td>-0.024395</td>\n",
       "      <td>0.030963</td>\n",
       "      <td>-0.086504</td>\n",
       "    </tr>\n",
       "    <tr>\n",
       "      <th>Route_3</th>\n",
       "      <td>0.031788</td>\n",
       "      <td>-0.024983</td>\n",
       "      <td>0.008015</td>\n",
       "      <td>0.007375</td>\n",
       "      <td>0.089435</td>\n",
       "      <td>-0.016614</td>\n",
       "      <td>0.039063</td>\n",
       "      <td>-0.001191</td>\n",
       "      <td>0.013010</td>\n",
       "      <td>0.010712</td>\n",
       "      <td>...</td>\n",
       "      <td>-0.047394</td>\n",
       "      <td>-0.035188</td>\n",
       "      <td>-0.170991</td>\n",
       "      <td>1.000000</td>\n",
       "      <td>-0.265199</td>\n",
       "      <td>-0.268758</td>\n",
       "      <td>-0.007553</td>\n",
       "      <td>-0.013372</td>\n",
       "      <td>-0.001094</td>\n",
       "      <td>-0.019435</td>\n",
       "    </tr>\n",
       "    <tr>\n",
       "      <th>Route_4</th>\n",
       "      <td>-0.008662</td>\n",
       "      <td>-0.071987</td>\n",
       "      <td>0.062725</td>\n",
       "      <td>-0.069273</td>\n",
       "      <td>0.042319</td>\n",
       "      <td>0.002768</td>\n",
       "      <td>-0.068355</td>\n",
       "      <td>-0.040345</td>\n",
       "      <td>-0.009360</td>\n",
       "      <td>0.014802</td>\n",
       "      <td>...</td>\n",
       "      <td>0.056351</td>\n",
       "      <td>0.065422</td>\n",
       "      <td>0.008636</td>\n",
       "      <td>-0.265199</td>\n",
       "      <td>1.000000</td>\n",
       "      <td>0.972834</td>\n",
       "      <td>0.028454</td>\n",
       "      <td>0.001902</td>\n",
       "      <td>-0.003047</td>\n",
       "      <td>-0.023650</td>\n",
       "    </tr>\n",
       "    <tr>\n",
       "      <th>Route_5</th>\n",
       "      <td>-0.009133</td>\n",
       "      <td>-0.105416</td>\n",
       "      <td>0.067766</td>\n",
       "      <td>-0.095194</td>\n",
       "      <td>0.026837</td>\n",
       "      <td>0.001303</td>\n",
       "      <td>-0.065568</td>\n",
       "      <td>-0.032398</td>\n",
       "      <td>-0.009550</td>\n",
       "      <td>0.010962</td>\n",
       "      <td>...</td>\n",
       "      <td>0.050304</td>\n",
       "      <td>0.054299</td>\n",
       "      <td>0.011708</td>\n",
       "      <td>-0.268758</td>\n",
       "      <td>0.972834</td>\n",
       "      <td>1.000000</td>\n",
       "      <td>0.038904</td>\n",
       "      <td>-0.000176</td>\n",
       "      <td>0.000195</td>\n",
       "      <td>-0.023352</td>\n",
       "    </tr>\n",
       "    <tr>\n",
       "      <th>Dep_Time_Hr</th>\n",
       "      <td>-0.032196</td>\n",
       "      <td>-0.007727</td>\n",
       "      <td>0.060127</td>\n",
       "      <td>-0.089193</td>\n",
       "      <td>-0.047416</td>\n",
       "      <td>-0.106507</td>\n",
       "      <td>0.017322</td>\n",
       "      <td>0.055766</td>\n",
       "      <td>0.044763</td>\n",
       "      <td>0.012767</td>\n",
       "      <td>...</td>\n",
       "      <td>-0.001212</td>\n",
       "      <td>-0.067641</td>\n",
       "      <td>0.005050</td>\n",
       "      <td>-0.007553</td>\n",
       "      <td>0.028454</td>\n",
       "      <td>0.038904</td>\n",
       "      <td>1.000000</td>\n",
       "      <td>-0.015150</td>\n",
       "      <td>-0.003849</td>\n",
       "      <td>0.072895</td>\n",
       "    </tr>\n",
       "    <tr>\n",
       "      <th>Dep_Time_Min</th>\n",
       "      <td>-0.062267</td>\n",
       "      <td>-0.001791</td>\n",
       "      <td>-0.056847</td>\n",
       "      <td>0.096649</td>\n",
       "      <td>-0.074782</td>\n",
       "      <td>0.082951</td>\n",
       "      <td>0.049658</td>\n",
       "      <td>-0.045925</td>\n",
       "      <td>0.004121</td>\n",
       "      <td>-0.013303</td>\n",
       "      <td>...</td>\n",
       "      <td>-0.019066</td>\n",
       "      <td>-0.002932</td>\n",
       "      <td>-0.024395</td>\n",
       "      <td>-0.013372</td>\n",
       "      <td>0.001902</td>\n",
       "      <td>-0.000176</td>\n",
       "      <td>-0.015150</td>\n",
       "      <td>1.000000</td>\n",
       "      <td>0.046519</td>\n",
       "      <td>-0.021596</td>\n",
       "    </tr>\n",
       "    <tr>\n",
       "      <th>Arrival_Time_Hr</th>\n",
       "      <td>-0.005393</td>\n",
       "      <td>-0.008547</td>\n",
       "      <td>0.028198</td>\n",
       "      <td>-0.061669</td>\n",
       "      <td>0.021545</td>\n",
       "      <td>0.000572</td>\n",
       "      <td>-0.088974</td>\n",
       "      <td>0.035825</td>\n",
       "      <td>-0.025117</td>\n",
       "      <td>0.003405</td>\n",
       "      <td>...</td>\n",
       "      <td>0.061963</td>\n",
       "      <td>0.051419</td>\n",
       "      <td>0.030963</td>\n",
       "      <td>-0.001094</td>\n",
       "      <td>-0.003047</td>\n",
       "      <td>0.000195</td>\n",
       "      <td>-0.003849</td>\n",
       "      <td>0.046519</td>\n",
       "      <td>1.000000</td>\n",
       "      <td>-0.152128</td>\n",
       "    </tr>\n",
       "    <tr>\n",
       "      <th>Arrival_Time_Min</th>\n",
       "      <td>-0.072842</td>\n",
       "      <td>0.003890</td>\n",
       "      <td>0.021097</td>\n",
       "      <td>0.006943</td>\n",
       "      <td>-0.172673</td>\n",
       "      <td>0.043792</td>\n",
       "      <td>0.160290</td>\n",
       "      <td>-0.028541</td>\n",
       "      <td>0.018157</td>\n",
       "      <td>0.002784</td>\n",
       "      <td>...</td>\n",
       "      <td>-0.070776</td>\n",
       "      <td>-0.107450</td>\n",
       "      <td>-0.086504</td>\n",
       "      <td>-0.019435</td>\n",
       "      <td>-0.023650</td>\n",
       "      <td>-0.023352</td>\n",
       "      <td>0.072895</td>\n",
       "      <td>-0.021596</td>\n",
       "      <td>-0.152128</td>\n",
       "      <td>1.000000</td>\n",
       "    </tr>\n",
       "  </tbody>\n",
       "</table>\n",
       "<p>30 rows × 30 columns</p>\n",
       "</div>"
      ],
      "text/plain": [
       "                                                onehotencoder__x0_1 Long layover  \\\n",
       "onehotencoder__x0_1 Long layover                                        1.000000   \n",
       "onehotencoder__x0_1 Short layover                                      -0.001693   \n",
       "onehotencoder__x0_2 Long layover                                       -0.011966   \n",
       "onehotencoder__x0_Business class                                        0.068864   \n",
       "onehotencoder__x0_Change airports                                       0.039740   \n",
       "onehotencoder__x0_In-flight meal not included                          -0.063681   \n",
       "onehotencoder__x0_No Info                                               0.056605   \n",
       "onehotencoder__x0_No check-in baggage included                          0.261453   \n",
       "onehotencoder__x0_No info                                               0.055129   \n",
       "onehotencoder__x0_Red-eye flight                                        0.012329   \n",
       "Airline                                                                -0.012957   \n",
       "Source                                                                 -0.012329   \n",
       "Destination                                                            -0.012329   \n",
       "Duration                                                                0.006358   \n",
       "Total_Stops                                                            -0.032628   \n",
       "Price                                                                   0.023773   \n",
       "day_name                                                               -0.007030   \n",
       "day                                                                     0.300940   \n",
       "month                                                                  -0.143120   \n",
       "quarter                                                                -0.016464   \n",
       "Source_Route                                                           -0.153792   \n",
       "Route_1                                                                -0.194376   \n",
       "Route_2                                                                -0.036283   \n",
       "Route_3                                                                 0.031788   \n",
       "Route_4                                                                -0.008662   \n",
       "Route_5                                                                -0.009133   \n",
       "Dep_Time_Hr                                                            -0.032196   \n",
       "Dep_Time_Min                                                           -0.062267   \n",
       "Arrival_Time_Hr                                                        -0.005393   \n",
       "Arrival_Time_Min                                                       -0.072842   \n",
       "\n",
       "                                                onehotencoder__x0_1 Short layover  \\\n",
       "onehotencoder__x0_1 Long layover                                        -0.001693   \n",
       "onehotencoder__x0_1 Short layover                                        1.000000   \n",
       "onehotencoder__x0_2 Long layover                                        -0.039332   \n",
       "onehotencoder__x0_Business class                                         0.010618   \n",
       "onehotencoder__x0_Change airports                                        0.017104   \n",
       "onehotencoder__x0_In-flight meal not included                           -0.008615   \n",
       "onehotencoder__x0_No Info                                                0.023505   \n",
       "onehotencoder__x0_No check-in baggage included                           0.008076   \n",
       "onehotencoder__x0_No info                                                0.003000   \n",
       "onehotencoder__x0_Red-eye flight                                        -0.004755   \n",
       "Airline                                                                  0.017472   \n",
       "Source                                                                   0.004755   \n",
       "Destination                                                              0.004755   \n",
       "Duration                                                                 0.009512   \n",
       "Total_Stops                                                              0.012584   \n",
       "Price                                                                   -0.036953   \n",
       "day_name                                                                 0.008237   \n",
       "day                                                                      0.001697   \n",
       "month                                                                    0.030269   \n",
       "quarter                                                                  0.004755   \n",
       "Source_Route                                                            -0.020336   \n",
       "Route_1                                                                 -0.017284   \n",
       "Route_2                                                                 -0.024404   \n",
       "Route_3                                                                 -0.024983   \n",
       "Route_4                                                                 -0.071987   \n",
       "Route_5                                                                 -0.105416   \n",
       "Dep_Time_Hr                                                             -0.007727   \n",
       "Dep_Time_Min                                                            -0.001791   \n",
       "Arrival_Time_Hr                                                         -0.008547   \n",
       "Arrival_Time_Min                                                         0.003890   \n",
       "\n",
       "                                                onehotencoder__x0_2 Long layover  \\\n",
       "onehotencoder__x0_1 Long layover                                       -0.011966   \n",
       "onehotencoder__x0_1 Short layover                                      -0.039332   \n",
       "onehotencoder__x0_2 Long layover                                        1.000000   \n",
       "onehotencoder__x0_Business class                                       -0.433030   \n",
       "onehotencoder__x0_Change airports                                       0.437722   \n",
       "onehotencoder__x0_In-flight meal not included                           0.036603   \n",
       "onehotencoder__x0_No Info                                              -0.269847   \n",
       "onehotencoder__x0_No check-in baggage included                         -0.075468   \n",
       "onehotencoder__x0_No info                                              -0.008356   \n",
       "onehotencoder__x0_Red-eye flight                                        0.016102   \n",
       "Airline                                                                -0.066464   \n",
       "Source                                                                 -0.016102   \n",
       "Destination                                                            -0.016102   \n",
       "Duration                                                               -0.032210   \n",
       "Total_Stops                                                            -0.042615   \n",
       "Price                                                                   0.049418   \n",
       "day_name                                                               -0.027893   \n",
       "day                                                                     0.010705   \n",
       "month                                                                  -0.037507   \n",
       "quarter                                                                -0.016102   \n",
       "Source_Route                                                            0.163049   \n",
       "Route_1                                                                 0.193962   \n",
       "Route_2                                                                 0.013504   \n",
       "Route_3                                                                 0.008015   \n",
       "Route_4                                                                 0.062725   \n",
       "Route_5                                                                 0.067766   \n",
       "Dep_Time_Hr                                                             0.060127   \n",
       "Dep_Time_Min                                                           -0.056847   \n",
       "Arrival_Time_Hr                                                         0.028198   \n",
       "Arrival_Time_Min                                                        0.021097   \n",
       "\n",
       "                                                onehotencoder__x0_Business class  \\\n",
       "onehotencoder__x0_1 Long layover                                        0.068864   \n",
       "onehotencoder__x0_1 Short layover                                       0.010618   \n",
       "onehotencoder__x0_2 Long layover                                       -0.433030   \n",
       "onehotencoder__x0_Business class                                        1.000000   \n",
       "onehotencoder__x0_Change airports                                      -0.268845   \n",
       "onehotencoder__x0_In-flight meal not included                           0.133640   \n",
       "onehotencoder__x0_No Info                                               0.558523   \n",
       "onehotencoder__x0_No check-in baggage included                          0.137110   \n",
       "onehotencoder__x0_No info                                               0.019957   \n",
       "onehotencoder__x0_Red-eye flight                                       -0.007873   \n",
       "Airline                                                                 0.032149   \n",
       "Source                                                                  0.007873   \n",
       "Destination                                                             0.007873   \n",
       "Duration                                                                0.015748   \n",
       "Total_Stops                                                             0.020835   \n",
       "Price                                                                  -0.104112   \n",
       "day_name                                                                0.013637   \n",
       "day                                                                     0.106603   \n",
       "month                                                                   0.046923   \n",
       "quarter                                                                 0.007873   \n",
       "Source_Route                                                           -0.383647   \n",
       "Route_1                                                                -0.423096   \n",
       "Route_2                                                                -0.261136   \n",
       "Route_3                                                                 0.007375   \n",
       "Route_4                                                                -0.069273   \n",
       "Route_5                                                                -0.095194   \n",
       "Dep_Time_Hr                                                            -0.089193   \n",
       "Dep_Time_Min                                                            0.096649   \n",
       "Arrival_Time_Hr                                                        -0.061669   \n",
       "Arrival_Time_Min                                                        0.006943   \n",
       "\n",
       "                                                onehotencoder__x0_Change airports  \\\n",
       "onehotencoder__x0_1 Long layover                                         0.039740   \n",
       "onehotencoder__x0_1 Short layover                                        0.017104   \n",
       "onehotencoder__x0_2 Long layover                                         0.437722   \n",
       "onehotencoder__x0_Business class                                        -0.268845   \n",
       "onehotencoder__x0_Change airports                                        1.000000   \n",
       "onehotencoder__x0_In-flight meal not included                           -0.098730   \n",
       "onehotencoder__x0_No Info                                               -0.467079   \n",
       "onehotencoder__x0_No check-in baggage included                          -0.176939   \n",
       "onehotencoder__x0_No info                                               -0.013073   \n",
       "onehotencoder__x0_Red-eye flight                                         0.016221   \n",
       "Airline                                                                 -0.065194   \n",
       "Source                                                                  -0.016221   \n",
       "Destination                                                             -0.016221   \n",
       "Duration                                                                -0.032447   \n",
       "Total_Stops                                                             -0.042929   \n",
       "Price                                                                    0.011886   \n",
       "day_name                                                                -0.028098   \n",
       "day                                                                     -0.032991   \n",
       "month                                                                    0.015815   \n",
       "quarter                                                                 -0.016221   \n",
       "Source_Route                                                             0.276176   \n",
       "Route_1                                                                  0.417377   \n",
       "Route_2                                                                  0.173683   \n",
       "Route_3                                                                  0.089435   \n",
       "Route_4                                                                  0.042319   \n",
       "Route_5                                                                  0.026837   \n",
       "Dep_Time_Hr                                                             -0.047416   \n",
       "Dep_Time_Min                                                            -0.074782   \n",
       "Arrival_Time_Hr                                                          0.021545   \n",
       "Arrival_Time_Min                                                        -0.172673   \n",
       "\n",
       "                                                onehotencoder__x0_In-flight meal not included  \\\n",
       "onehotencoder__x0_1 Long layover                                                    -0.063681   \n",
       "onehotencoder__x0_1 Short layover                                                   -0.008615   \n",
       "onehotencoder__x0_2 Long layover                                                     0.036603   \n",
       "onehotencoder__x0_Business class                                                     0.133640   \n",
       "onehotencoder__x0_Change airports                                                   -0.098730   \n",
       "onehotencoder__x0_In-flight meal not included                                        1.000000   \n",
       "onehotencoder__x0_No Info                                                            0.007073   \n",
       "onehotencoder__x0_No check-in baggage included                                      -0.253016   \n",
       "onehotencoder__x0_No info                                                           -0.084060   \n",
       "onehotencoder__x0_Red-eye flight                                                     0.003475   \n",
       "Airline                                                                             -0.007136   \n",
       "Source                                                                              -0.005971   \n",
       "Destination                                                                         -0.005971   \n",
       "Duration                                                                             0.001787   \n",
       "Total_Stops                                                                          0.018645   \n",
       "Price                                                                               -0.099129   \n",
       "day_name                                                                             0.017763   \n",
       "day                                                                                 -0.007207   \n",
       "month                                                                                0.095058   \n",
       "quarter                                                                              0.001517   \n",
       "Source_Route                                                                         0.021837   \n",
       "Route_1                                                                              0.146462   \n",
       "Route_2                                                                             -0.098500   \n",
       "Route_3                                                                             -0.016614   \n",
       "Route_4                                                                              0.002768   \n",
       "Route_5                                                                              0.001303   \n",
       "Dep_Time_Hr                                                                         -0.106507   \n",
       "Dep_Time_Min                                                                         0.082951   \n",
       "Arrival_Time_Hr                                                                      0.000572   \n",
       "Arrival_Time_Min                                                                     0.043792   \n",
       "\n",
       "                                                onehotencoder__x0_No Info  \\\n",
       "onehotencoder__x0_1 Long layover                                 0.056605   \n",
       "onehotencoder__x0_1 Short layover                                0.023505   \n",
       "onehotencoder__x0_2 Long layover                                -0.269847   \n",
       "onehotencoder__x0_Business class                                 0.558523   \n",
       "onehotencoder__x0_Change airports                               -0.467079   \n",
       "onehotencoder__x0_In-flight meal not included                    0.007073   \n",
       "onehotencoder__x0_No Info                                        1.000000   \n",
       "onehotencoder__x0_No check-in baggage included                   0.218500   \n",
       "onehotencoder__x0_No info                                       -0.014830   \n",
       "onehotencoder__x0_Red-eye flight                                 0.010680   \n",
       "Airline                                                         -0.020639   \n",
       "Source                                                          -0.009817   \n",
       "Destination                                                     -0.009817   \n",
       "Duration                                                        -0.009281   \n",
       "Total_Stops                                                     -0.009018   \n",
       "Price                                                           -0.197741   \n",
       "day_name                                                        -0.008037   \n",
       "day                                                              0.226025   \n",
       "month                                                            0.095252   \n",
       "quarter                                                          0.013480   \n",
       "Source_Route                                                    -0.652873   \n",
       "Route_1                                                         -0.803700   \n",
       "Route_2                                                         -0.588385   \n",
       "Route_3                                                          0.039063   \n",
       "Route_4                                                         -0.068355   \n",
       "Route_5                                                         -0.065568   \n",
       "Dep_Time_Hr                                                      0.017322   \n",
       "Dep_Time_Min                                                     0.049658   \n",
       "Arrival_Time_Hr                                                 -0.088974   \n",
       "Arrival_Time_Min                                                 0.160290   \n",
       "\n",
       "                                                onehotencoder__x0_No check-in baggage included  \\\n",
       "onehotencoder__x0_1 Long layover                                                      0.261453   \n",
       "onehotencoder__x0_1 Short layover                                                     0.008076   \n",
       "onehotencoder__x0_2 Long layover                                                     -0.075468   \n",
       "onehotencoder__x0_Business class                                                      0.137110   \n",
       "onehotencoder__x0_Change airports                                                    -0.176939   \n",
       "onehotencoder__x0_In-flight meal not included                                        -0.253016   \n",
       "onehotencoder__x0_No Info                                                             0.218500   \n",
       "onehotencoder__x0_No check-in baggage included                                        1.000000   \n",
       "onehotencoder__x0_No info                                                             0.135002   \n",
       "onehotencoder__x0_Red-eye flight                                                      0.006688   \n",
       "Airline                                                                               0.016292   \n",
       "Source                                                                               -0.020585   \n",
       "Destination                                                                          -0.020585   \n",
       "Duration                                                                              0.007470   \n",
       "Total_Stops                                                                          -0.030835   \n",
       "Price                                                                                 0.045514   \n",
       "day_name                                                                              0.006469   \n",
       "day                                                                                   0.067629   \n",
       "month                                                                                -0.070331   \n",
       "quarter                                                                               0.003735   \n",
       "Source_Route                                                                         -0.453021   \n",
       "Route_1                                                                              -0.709039   \n",
       "Route_2                                                                              -0.302620   \n",
       "Route_3                                                                              -0.001191   \n",
       "Route_4                                                                              -0.040345   \n",
       "Route_5                                                                              -0.032398   \n",
       "Dep_Time_Hr                                                                           0.055766   \n",
       "Dep_Time_Min                                                                         -0.045925   \n",
       "Arrival_Time_Hr                                                                       0.035825   \n",
       "Arrival_Time_Min                                                                     -0.028541   \n",
       "\n",
       "                                                onehotencoder__x0_No info  \\\n",
       "onehotencoder__x0_1 Long layover                                 0.055129   \n",
       "onehotencoder__x0_1 Short layover                                0.003000   \n",
       "onehotencoder__x0_2 Long layover                                -0.008356   \n",
       "onehotencoder__x0_Business class                                 0.019957   \n",
       "onehotencoder__x0_Change airports                               -0.013073   \n",
       "onehotencoder__x0_In-flight meal not included                   -0.084060   \n",
       "onehotencoder__x0_No Info                                       -0.014830   \n",
       "onehotencoder__x0_No check-in baggage included                   0.135002   \n",
       "onehotencoder__x0_No info                                        1.000000   \n",
       "onehotencoder__x0_Red-eye flight                                 0.036855   \n",
       "Airline                                                          0.002704   \n",
       "Source                                                           0.000620   \n",
       "Destination                                                      0.000620   \n",
       "Duration                                                         0.001240   \n",
       "Total_Stops                                                     -0.012528   \n",
       "Price                                                            0.030109   \n",
       "day_name                                                         0.001074   \n",
       "day                                                              0.011223   \n",
       "month                                                           -0.032574   \n",
       "quarter                                                          0.000620   \n",
       "Source_Route                                                    -0.111951   \n",
       "Route_1                                                         -0.211459   \n",
       "Route_2                                                         -0.057622   \n",
       "Route_3                                                          0.013010   \n",
       "Route_4                                                         -0.009360   \n",
       "Route_5                                                         -0.009550   \n",
       "Dep_Time_Hr                                                      0.044763   \n",
       "Dep_Time_Min                                                     0.004121   \n",
       "Arrival_Time_Hr                                                 -0.025117   \n",
       "Arrival_Time_Min                                                 0.018157   \n",
       "\n",
       "                                                onehotencoder__x0_Red-eye flight  \\\n",
       "onehotencoder__x0_1 Long layover                                        0.012329   \n",
       "onehotencoder__x0_1 Short layover                                      -0.004755   \n",
       "onehotencoder__x0_2 Long layover                                        0.016102   \n",
       "onehotencoder__x0_Business class                                       -0.007873   \n",
       "onehotencoder__x0_Change airports                                       0.016221   \n",
       "onehotencoder__x0_In-flight meal not included                           0.003475   \n",
       "onehotencoder__x0_No Info                                               0.010680   \n",
       "onehotencoder__x0_No check-in baggage included                          0.006688   \n",
       "onehotencoder__x0_No info                                               0.036855   \n",
       "onehotencoder__x0_Red-eye flight                                        1.000000   \n",
       "Airline                                                                 0.000417   \n",
       "Source                                                                  0.000096   \n",
       "Destination                                                             0.000096   \n",
       "Duration                                                                0.000191   \n",
       "Total_Stops                                                            -0.377856   \n",
       "Price                                                                   0.004645   \n",
       "day_name                                                                0.000166   \n",
       "day                                                                     0.001731   \n",
       "month                                                                   0.018521   \n",
       "quarter                                                                 0.000096   \n",
       "Source_Route                                                           -0.022267   \n",
       "Route_1                                                                -0.047338   \n",
       "Route_2                                                                -0.018311   \n",
       "Route_3                                                                 0.010712   \n",
       "Route_4                                                                 0.014802   \n",
       "Route_5                                                                 0.010962   \n",
       "Dep_Time_Hr                                                             0.012767   \n",
       "Dep_Time_Min                                                           -0.013303   \n",
       "Arrival_Time_Hr                                                         0.003405   \n",
       "Arrival_Time_Min                                                        0.002784   \n",
       "\n",
       "                                                ...  Source_Route   Route_1  \\\n",
       "onehotencoder__x0_1 Long layover                ...     -0.153792 -0.194376   \n",
       "onehotencoder__x0_1 Short layover               ...     -0.020336 -0.017284   \n",
       "onehotencoder__x0_2 Long layover                ...      0.163049  0.193962   \n",
       "onehotencoder__x0_Business class                ...     -0.383647 -0.423096   \n",
       "onehotencoder__x0_Change airports               ...      0.276176  0.417377   \n",
       "onehotencoder__x0_In-flight meal not included   ...      0.021837  0.146462   \n",
       "onehotencoder__x0_No Info                       ...     -0.652873 -0.803700   \n",
       "onehotencoder__x0_No check-in baggage included  ...     -0.453021 -0.709039   \n",
       "onehotencoder__x0_No info                       ...     -0.111951 -0.211459   \n",
       "onehotencoder__x0_Red-eye flight                ...     -0.022267 -0.047338   \n",
       "Airline                                         ...      0.024677  0.012773   \n",
       "Source                                          ...      0.004788  0.017731   \n",
       "Destination                                     ...      0.018947  0.017731   \n",
       "Duration                                        ...     -0.010834  0.005856   \n",
       "Total_Stops                                     ...      0.017101  0.046926   \n",
       "Price                                           ...      0.193480  0.101916   \n",
       "day_name                                        ...     -0.011835  0.005072   \n",
       "day                                             ...     -0.170624 -0.201565   \n",
       "month                                           ...     -0.113646 -0.017157   \n",
       "quarter                                         ...     -0.009078 -0.011875   \n",
       "Source_Route                                    ...      1.000000  0.728367   \n",
       "Route_1                                         ...      0.728367  1.000000   \n",
       "Route_2                                         ...      0.502087  0.601889   \n",
       "Route_3                                         ...     -0.047394 -0.035188   \n",
       "Route_4                                         ...      0.056351  0.065422   \n",
       "Route_5                                         ...      0.050304  0.054299   \n",
       "Dep_Time_Hr                                     ...     -0.001212 -0.067641   \n",
       "Dep_Time_Min                                    ...     -0.019066 -0.002932   \n",
       "Arrival_Time_Hr                                 ...      0.061963  0.051419   \n",
       "Arrival_Time_Min                                ...     -0.070776 -0.107450   \n",
       "\n",
       "                                                 Route_2   Route_3   Route_4  \\\n",
       "onehotencoder__x0_1 Long layover               -0.036283  0.031788 -0.008662   \n",
       "onehotencoder__x0_1 Short layover              -0.024404 -0.024983 -0.071987   \n",
       "onehotencoder__x0_2 Long layover                0.013504  0.008015  0.062725   \n",
       "onehotencoder__x0_Business class               -0.261136  0.007375 -0.069273   \n",
       "onehotencoder__x0_Change airports               0.173683  0.089435  0.042319   \n",
       "onehotencoder__x0_In-flight meal not included  -0.098500 -0.016614  0.002768   \n",
       "onehotencoder__x0_No Info                      -0.588385  0.039063 -0.068355   \n",
       "onehotencoder__x0_No check-in baggage included -0.302620 -0.001191 -0.040345   \n",
       "onehotencoder__x0_No info                      -0.057622  0.013010 -0.009360   \n",
       "onehotencoder__x0_Red-eye flight               -0.018311  0.010712  0.014802   \n",
       "Airline                                         0.120693 -0.041369 -0.060829   \n",
       "Source                                          0.037462 -0.010712 -0.014802   \n",
       "Destination                                     0.036906 -0.010712 -0.014802   \n",
       "Duration                                        0.202111 -0.021427 -0.029608   \n",
       "Total_Stops                                     0.043507 -0.028349 -0.039174   \n",
       "Price                                           0.042083  0.031890  0.038737   \n",
       "day_name                                       -0.003594 -0.018555 -0.025640   \n",
       "day                                            -0.206142  0.043914 -0.027696   \n",
       "month                                           0.019766 -0.039620 -0.012616   \n",
       "quarter                                         0.003905 -0.010712 -0.014802   \n",
       "Source_Route                                    0.502087 -0.047394  0.056351   \n",
       "Route_1                                         0.601889 -0.035188  0.065422   \n",
       "Route_2                                         1.000000 -0.170991  0.008636   \n",
       "Route_3                                        -0.170991  1.000000 -0.265199   \n",
       "Route_4                                         0.008636 -0.265199  1.000000   \n",
       "Route_5                                         0.011708 -0.268758  0.972834   \n",
       "Dep_Time_Hr                                     0.005050 -0.007553  0.028454   \n",
       "Dep_Time_Min                                   -0.024395 -0.013372  0.001902   \n",
       "Arrival_Time_Hr                                 0.030963 -0.001094 -0.003047   \n",
       "Arrival_Time_Min                               -0.086504 -0.019435 -0.023650   \n",
       "\n",
       "                                                 Route_5  Dep_Time_Hr  \\\n",
       "onehotencoder__x0_1 Long layover               -0.009133    -0.032196   \n",
       "onehotencoder__x0_1 Short layover              -0.105416    -0.007727   \n",
       "onehotencoder__x0_2 Long layover                0.067766     0.060127   \n",
       "onehotencoder__x0_Business class               -0.095194    -0.089193   \n",
       "onehotencoder__x0_Change airports               0.026837    -0.047416   \n",
       "onehotencoder__x0_In-flight meal not included   0.001303    -0.106507   \n",
       "onehotencoder__x0_No Info                      -0.065568     0.017322   \n",
       "onehotencoder__x0_No check-in baggage included -0.032398     0.055766   \n",
       "onehotencoder__x0_No info                      -0.009550     0.044763   \n",
       "onehotencoder__x0_Red-eye flight                0.010962     0.012767   \n",
       "Airline                                        -0.045318     0.003495   \n",
       "Source                                         -0.010962    -0.007645   \n",
       "Destination                                    -0.010962    -0.011060   \n",
       "Duration                                       -0.021928    -0.022123   \n",
       "Total_Stops                                    -0.029012    -0.011842   \n",
       "Price                                           0.037364     0.066497   \n",
       "day_name                                       -0.018989    -0.000428   \n",
       "day                                            -0.025632    -0.010019   \n",
       "month                                          -0.015331    -0.056795   \n",
       "quarter                                        -0.010962     0.017963   \n",
       "Source_Route                                    0.050304    -0.001212   \n",
       "Route_1                                         0.054299    -0.067641   \n",
       "Route_2                                         0.011708     0.005050   \n",
       "Route_3                                        -0.268758    -0.007553   \n",
       "Route_4                                         0.972834     0.028454   \n",
       "Route_5                                         1.000000     0.038904   \n",
       "Dep_Time_Hr                                     0.038904     1.000000   \n",
       "Dep_Time_Min                                   -0.000176    -0.015150   \n",
       "Arrival_Time_Hr                                 0.000195    -0.003849   \n",
       "Arrival_Time_Min                               -0.023352     0.072895   \n",
       "\n",
       "                                                Dep_Time_Min  Arrival_Time_Hr  \\\n",
       "onehotencoder__x0_1 Long layover                   -0.062267        -0.005393   \n",
       "onehotencoder__x0_1 Short layover                  -0.001791        -0.008547   \n",
       "onehotencoder__x0_2 Long layover                   -0.056847         0.028198   \n",
       "onehotencoder__x0_Business class                    0.096649        -0.061669   \n",
       "onehotencoder__x0_Change airports                  -0.074782         0.021545   \n",
       "onehotencoder__x0_In-flight meal not included       0.082951         0.000572   \n",
       "onehotencoder__x0_No Info                           0.049658        -0.088974   \n",
       "onehotencoder__x0_No check-in baggage included     -0.045925         0.035825   \n",
       "onehotencoder__x0_No info                           0.004121        -0.025117   \n",
       "onehotencoder__x0_Red-eye flight                   -0.013303         0.003405   \n",
       "Airline                                             0.029397        -0.000773   \n",
       "Source                                              0.013303         0.013710   \n",
       "Destination                                         0.010704        -0.006258   \n",
       "Duration                                            0.022711        -0.003245   \n",
       "Total_Stops                                         0.012611         0.021724   \n",
       "Price                                              -0.005562        -0.011160   \n",
       "day_name                                            0.003539         0.008925   \n",
       "day                                                 0.062002        -0.090334   \n",
       "month                                              -0.026179         0.046756   \n",
       "quarter                                             0.000310        -0.016241   \n",
       "Source_Route                                       -0.019066         0.061963   \n",
       "Route_1                                            -0.002932         0.051419   \n",
       "Route_2                                            -0.024395         0.030963   \n",
       "Route_3                                            -0.013372        -0.001094   \n",
       "Route_4                                             0.001902        -0.003047   \n",
       "Route_5                                            -0.000176         0.000195   \n",
       "Dep_Time_Hr                                        -0.015150        -0.003849   \n",
       "Dep_Time_Min                                        1.000000         0.046519   \n",
       "Arrival_Time_Hr                                     0.046519         1.000000   \n",
       "Arrival_Time_Min                                   -0.021596        -0.152128   \n",
       "\n",
       "                                                Arrival_Time_Min  \n",
       "onehotencoder__x0_1 Long layover                       -0.072842  \n",
       "onehotencoder__x0_1 Short layover                       0.003890  \n",
       "onehotencoder__x0_2 Long layover                        0.021097  \n",
       "onehotencoder__x0_Business class                        0.006943  \n",
       "onehotencoder__x0_Change airports                      -0.172673  \n",
       "onehotencoder__x0_In-flight meal not included           0.043792  \n",
       "onehotencoder__x0_No Info                               0.160290  \n",
       "onehotencoder__x0_No check-in baggage included         -0.028541  \n",
       "onehotencoder__x0_No info                               0.018157  \n",
       "onehotencoder__x0_Red-eye flight                        0.002784  \n",
       "Airline                                                 0.009537  \n",
       "Source                                                  0.000167  \n",
       "Destination                                             0.000167  \n",
       "Duration                                               -0.001142  \n",
       "Total_Stops                                             0.001558  \n",
       "Price                                                  -0.048681  \n",
       "day_name                                                0.003697  \n",
       "day                                                    -0.003193  \n",
       "month                                                   0.046047  \n",
       "quarter                                                -0.008685  \n",
       "Source_Route                                           -0.070776  \n",
       "Route_1                                                -0.107450  \n",
       "Route_2                                                -0.086504  \n",
       "Route_3                                                -0.019435  \n",
       "Route_4                                                -0.023650  \n",
       "Route_5                                                -0.023352  \n",
       "Dep_Time_Hr                                             0.072895  \n",
       "Dep_Time_Min                                           -0.021596  \n",
       "Arrival_Time_Hr                                        -0.152128  \n",
       "Arrival_Time_Min                                        1.000000  \n",
       "\n",
       "[30 rows x 30 columns]"
      ]
     },
     "execution_count": 97,
     "metadata": {},
     "output_type": "execute_result"
    }
   ],
   "source": [
    "## Lets look for some other insides \n",
    "df.corr()"
   ]
  },
  {
   "cell_type": "code",
   "execution_count": 98,
   "id": "215069c8",
   "metadata": {},
   "outputs": [
    {
     "data": {
      "text/plain": [
       "<AxesSubplot:>"
      ]
     },
     "execution_count": 98,
     "metadata": {},
     "output_type": "execute_result"
    },
    {
     "data": {
      "image/png": "[encoded data removed]",
      "text/plain": [
       "<Figure size 640x480 with 2 Axes>"
      ]
     },
     "metadata": {},
     "output_type": "display_data"
    }
   ],
   "source": [
    "sns.heatmap(df.corr())"
   ]
  },
  {
   "cell_type": "code",
   "execution_count": 99,
   "id": "51d465a8",
   "metadata": {},
   "outputs": [],
   "source": [
    "x = df.drop('Price',axis=1)\n",
    "y = df['Price']\n",
    "from sklearn.model_selection import train_test_split\n",
    "x_tr,x_te,y_tr,y_te = train_test_split(x,y,test_size=0.3,random_state=100)"
   ]
  },
  {
   "cell_type": "code",
   "execution_count": 100,
   "id": "7566089f",
   "metadata": {},
   "outputs": [],
   "source": [
    "### Expriment 1\n",
    "from sklearn.cluster import KMeans\n",
    "kmean = KMeans()\n",
    "kmean.fit(x_tr)\n",
    "x_tr['cluster'] = kmean.predict(x_tr)\n",
    "x_te['cluster'] = kmean.predict(x_te)"
   ]
  },
  {
   "cell_type": "code",
   "execution_count": 101,
   "id": "bfd8806a",
   "metadata": {},
   "outputs": [],
   "source": [
    "def get_score(model):\n",
    "    \n",
    "    model.fit(x_tr,y_tr)\n",
    "    y_tr_pre = model.predict(x_tr)\n",
    "    r2_score_tr = r2_score(y_true=y_tr,y_pred=y_tr_pre)\n",
    "    y_te_pre = model.predict(x_te)\n",
    "    r2_score_te = r2_score(y_true=y_te,y_pred=y_te_pre)\n",
    "    return r2_score_te,r2_score_tr"
   ]
  },
  {
   "cell_type": "code",
   "execution_count": 102,
   "id": "e384705d",
   "metadata": {},
   "outputs": [
    {
     "data": {
      "text/plain": [
       "(-0.049526378240901225, -0.04399326782552637)"
      ]
     },
     "execution_count": 102,
     "metadata": {},
     "output_type": "execute_result"
    }
   ],
   "source": [
    "from sklearn.svm import SVR\n",
    "from sklearn.metrics import r2_score\n",
    "model1 = SVR()\n",
    "get_score(model1)"
   ]
  },
  {
   "cell_type": "code",
   "execution_count": 103,
   "id": "efb2b93f",
   "metadata": {},
   "outputs": [
    {
     "data": {
      "text/plain": [
       "(1.0, 1.0)"
      ]
     },
     "execution_count": 103,
     "metadata": {},
     "output_type": "execute_result"
    }
   ],
   "source": [
    "from sklearn.tree import DecisionTreeRegressor\n",
    "model2 = DecisionTreeRegressor()\n",
    "get_score(model2)"
   ]
  },
  {
   "cell_type": "code",
   "execution_count": 104,
   "id": "8a76cb92",
   "metadata": {},
   "outputs": [
    {
     "data": {
      "text/plain": [
       "(0.9999505970642846, 0.9998221864977114)"
      ]
     },
     "execution_count": 104,
     "metadata": {},
     "output_type": "execute_result"
    }
   ],
   "source": [
    "from sklearn.ensemble import RandomForestRegressor\n",
    "model3 = RandomForestRegressor()\n",
    "get_score(model3)"
   ]
  },
  {
   "cell_type": "code",
   "execution_count": null,
   "id": "b70badb1",
   "metadata": {},
   "outputs": [],
   "source": [
    "from sklearn.model_selection import GridSearchCV\n",
    "def get_best_estimator(param,model):\n",
    "    grid = GridSearchCV(model,param_grid=param,cv=5)\n",
    "    grid.fit(x_tr,y_tr)\n",
    "    return get_score(grid.best_estimator_), grid.best_params_"
   ]
  },
  {
   "cell_type": "code",
   "execution_count": null,
   "id": "d84ea9af",
   "metadata": {},
   "outputs": [],
   "source": [
    "param_Dc = {\n",
    "    'max_depth':[5,10,20,50,100,None],\n",
    "    'min_samples_split':[2,3,5,10,15,20],\n",
    "    'min_samples_leaf':[2,3,5,10,15,20]\n",
    "}\n",
    "param_Rf =  {\n",
    "    'n_estimators':[80,90,100,120,150],\n",
    "    'max_depth':[5,10,20,50,100,None],\n",
    "    'min_samples_split':[2,3,5,10,15],\n",
    "    #'min_samples_leaf':[2,3,5,10,15,20]\n",
    "}"
   ]
  },
  {
   "cell_type": "code",
   "execution_count": 58,
   "id": "fd4ea503",
   "metadata": {},
   "outputs": [],
   "source": [
    "#get_best_estimator(param_Dc,model2)"
   ]
  },
  {
   "cell_type": "code",
   "execution_count": 59,
   "id": "da865246",
   "metadata": {},
   "outputs": [],
   "source": [
    "#get_best_estimator(param_Rf,model3)"
   ]
  },
  {
   "cell_type": "code",
   "execution_count": 60,
   "id": "08191813",
   "metadata": {},
   "outputs": [
    {
     "name": "stderr",
     "output_type": "stream",
     "text": [
      "D:\\ide\\lib\\site-packages\\seaborn\\_decorators.py:36: FutureWarning: Pass the following variable as a keyword arg: x. From version 0.12, the only valid positional argument will be `data`, and passing other arguments without an explicit keyword will result in an error or misinterpretation.\n",
      "  warnings.warn(\n"
     ]
    },
    {
     "data": {
      "text/plain": [
       "<AxesSubplot:xlabel='Duration'>"
      ]
     },
     "execution_count": 60,
     "metadata": {},
     "output_type": "execute_result"
    },
    {
     "data": {
      "image/png": "[encoded data removed]",
      "text/plain": [
       "<Figure size 640x480 with 1 Axes>"
      ]
     },
     "metadata": {},
     "output_type": "display_data"
    }
   ],
   "source": [
    "## Expriment 2\n",
    "sns.boxplot(df['Duration'])"
   ]
  },
  {
   "cell_type": "code",
   "execution_count": 61,
   "id": "4571c009",
   "metadata": {
    "scrolled": true
   },
   "outputs": [
    {
     "data": {
      "text/plain": [
       "<AxesSubplot:xlabel='Duration', ylabel='Density'>"
      ]
     },
     "execution_count": 61,
     "metadata": {},
     "output_type": "execute_result"
    },
    {
     "data": {
      "image/png": "[encoded data removed]",
      "text/plain": [
       "<Figure size 640x480 with 1 Axes>"
      ]
     },
     "metadata": {},
     "output_type": "display_data"
    }
   ],
   "source": [
    "sns.kdeplot(df['Duration'])"
   ]
  },
  {
   "cell_type": "code",
   "execution_count": 62,
   "id": "85a02838",
   "metadata": {},
   "outputs": [
    {
     "data": {
      "text/plain": [
       "<AxesSubplot:xlabel='transform', ylabel='Density'>"
      ]
     },
     "execution_count": 62,
     "metadata": {},
     "output_type": "execute_result"
    },
    {
     "data": {
      "image/png": "[encoded data removed]",
      "text/plain": [
       "<Figure size 640x480 with 1 Axes>"
      ]
     },
     "metadata": {},
     "output_type": "display_data"
    }
   ],
   "source": [
    "from sklearn.preprocessing import PowerTransformer\n",
    "transformer = PowerTransformer(method='box-cox',standardize=False)\n",
    "df['transform'] = transformer.fit_transform(df[['Duration']])\n",
    "sns.kdeplot(df['transform'])"
   ]
  },
  {
   "cell_type": "code",
   "execution_count": 63,
   "id": "df353c99",
   "metadata": {},
   "outputs": [],
   "source": [
    "x = df.drop(['Price','Duration'],axis=1)\n",
    "y = df['Price']\n",
    "from sklearn.model_selection import train_test_split\n",
    "x_tr,x_te,y_tr,y_te = train_test_split(x,y,test_size=0.3,random_state=10)"
   ]
  },
  {
   "cell_type": "code",
   "execution_count": 64,
   "id": "5e3d2263",
   "metadata": {},
   "outputs": [],
   "source": [
    "def get_score(model):\n",
    "    \n",
    "    model.fit(x_tr,y_tr)\n",
    "    y_tr_pre = model.predict(x_tr)\n",
    "    r2_score_tr = r2_score(y_true=y_tr,y_pred=y_tr_pre)\n",
    "    y_te_pre = model.predict(x_te)\n",
    "    r2_score_te = r2_score(y_true=y_te,y_pred=y_te_pre)\n",
    "    return r2_score_te,r2_score_tr"
   ]
  },
  {
   "cell_type": "code",
   "execution_count": 65,
   "id": "b84d8f73",
   "metadata": {},
   "outputs": [
    {
     "data": {
      "text/plain": [
       "(0.04184481042232091, 0.029763180941987044)"
      ]
     },
     "execution_count": 65,
     "metadata": {},
     "output_type": "execute_result"
    }
   ],
   "source": [
    "from sklearn.svm import SVR\n",
    "from sklearn.metrics import r2_score\n",
    "model1 = SVR()\n",
    "get_score(model1)"
   ]
  },
  {
   "cell_type": "code",
   "execution_count": 66,
   "id": "e93aaef5",
   "metadata": {
    "scrolled": true
   },
   "outputs": [
    {
     "data": {
      "text/plain": [
       "(0.7810185011866733, 0.9966104120698255)"
      ]
     },
     "execution_count": 66,
     "metadata": {},
     "output_type": "execute_result"
    }
   ],
   "source": [
    "from sklearn.tree import DecisionTreeRegressor\n",
    "model2 = DecisionTreeRegressor()\n",
    "get_score(model2)"
   ]
  },
  {
   "cell_type": "code",
   "execution_count": 67,
   "id": "129bf7a3",
   "metadata": {},
   "outputs": [
    {
     "data": {
      "text/plain": [
       "(0.8640028429580195, 0.9798926526697258)"
      ]
     },
     "execution_count": 67,
     "metadata": {},
     "output_type": "execute_result"
    }
   ],
   "source": [
    "from sklearn.ensemble import RandomForestRegressor\n",
    "model3 = RandomForestRegressor()\n",
    "get_score(model3)"
   ]
  },
  {
   "cell_type": "code",
   "execution_count": 68,
   "id": "8c792d33",
   "metadata": {},
   "outputs": [],
   "source": [
    "## Combine both expriment\n",
    "from sklearn.cluster import KMeans\n",
    "kmean = KMeans()\n",
    "kmean.fit(x_tr)\n",
    "x_tr['cluster'] = kmean.predict(x_tr)\n",
    "x_te['cluster'] = kmean.predict(x_te)"
   ]
  },
  {
   "cell_type": "code",
   "execution_count": 69,
   "id": "ca253bbe",
   "metadata": {},
   "outputs": [
    {
     "data": {
      "text/plain": [
       "(0.04189710567932137, 0.029774764589857394)"
      ]
     },
     "execution_count": 69,
     "metadata": {},
     "output_type": "execute_result"
    }
   ],
   "source": [
    "from sklearn.svm import SVR\n",
    "from sklearn.metrics import r2_score\n",
    "model1 = SVR()\n",
    "get_score(model1)"
   ]
  },
  {
   "cell_type": "code",
   "execution_count": 70,
   "id": "8a9f5786",
   "metadata": {
    "scrolled": true
   },
   "outputs": [
    {
     "data": {
      "text/plain": [
       "(0.7478341231502879, 0.9966104120698255)"
      ]
     },
     "execution_count": 70,
     "metadata": {},
     "output_type": "execute_result"
    }
   ],
   "source": [
    "from sklearn.tree import DecisionTreeRegressor\n",
    "model2 = DecisionTreeRegressor()\n",
    "get_score(model2)"
   ]
  },
  {
   "cell_type": "code",
   "execution_count": 71,
   "id": "60d9c8f6",
   "metadata": {},
   "outputs": [
    {
     "data": {
      "text/plain": [
       "(0.8675373081169616, 0.9812434355909498)"
      ]
     },
     "execution_count": 71,
     "metadata": {},
     "output_type": "execute_result"
    }
   ],
   "source": [
    "from sklearn.ensemble import RandomForestRegressor\n",
    "model3 = RandomForestRegressor()\n",
    "get_score(model3)"
   ]
  },
  {
   "cell_type": "code",
   "execution_count": 72,
   "id": "dccbb767",
   "metadata": {},
   "outputs": [
    {
     "data": {
      "text/plain": [
       "[<matplotlib.lines.Line2D at 0x2125820e1c0>]"
      ]
     },
     "execution_count": 72,
     "metadata": {},
     "output_type": "execute_result"
    },
    {
     "data": {
      "image/png": "[encoded data removed]",
      "text/plain": [
       "<Figure size 640x480 with 1 Axes>"
      ]
     },
     "metadata": {},
     "output_type": "display_data"
    }
   ],
   "source": [
    "## Expriment 4 \n",
    "x = df.drop(['Price','Duration'],axis=1)\n",
    "y = df['Price']\n",
    "from sklearn.model_selection import train_test_split\n",
    "x_tr,x_te,y_tr,y_te = train_test_split(x,y,test_size=0.3,random_state=10)\n",
    "from sklearn.preprocessing import RobustScaler\n",
    "scaler =  RobustScaler()\n",
    "x_tr_scaled = scaler.fit_transform(x_tr)\n",
    "x_te_scaled = scaler.transform(x_te)\n",
    "from sklearn.decomposition import PCA\n",
    "pca = PCA(n_components=None)\n",
    "pca.fit_transform(x_tr_scaled)\n",
    "plt.plot(pca.explained_variance_ratio_)"
   ]
  },
  {
   "cell_type": "code",
   "execution_count": 73,
   "id": "8f09b3b9",
   "metadata": {},
   "outputs": [],
   "source": [
    "pca = PCA(n_components=5)\n",
    "x_tr = pca.fit_transform(x_tr_scaled)\n",
    "x_te = pca.transform(x_te_scaled)"
   ]
  },
  {
   "cell_type": "code",
   "execution_count": null,
   "id": "777d31ac",
   "metadata": {},
   "outputs": [],
   "source": []
  },
  {
   "cell_type": "code",
   "execution_count": 74,
   "id": "01cad6a1",
   "metadata": {},
   "outputs": [],
   "source": [
    "def get_score(model,x_tr,x_te,y_tr,y_te):\n",
    "    \n",
    "    model.fit(x_tr,y_tr)\n",
    "    y_tr_pre = model.predict(x_tr)\n",
    "    r2_score_tr = r2_score(y_true=y_tr,y_pred=y_tr_pre)\n",
    "    y_te_pre = model.predict(x_te)\n",
    "    r2_score_te = r2_score(y_true=y_te,y_pred=y_te_pre)\n",
    "    return r2_score_te,r2_score_tr"
   ]
  },
  {
   "cell_type": "code",
   "execution_count": 75,
   "id": "b78df75b",
   "metadata": {},
   "outputs": [
    {
     "data": {
      "text/plain": [
       "(0.037766844258003696, 0.02312072714610658)"
      ]
     },
     "execution_count": 75,
     "metadata": {},
     "output_type": "execute_result"
    }
   ],
   "source": [
    "from sklearn.svm import SVR\n",
    "from sklearn.metrics import r2_score\n",
    "model1 = SVR()\n",
    "get_score(model1,x_tr,x_te,y_tr,y_te)"
   ]
  },
  {
   "cell_type": "code",
   "execution_count": 76,
   "id": "ffcfeae6",
   "metadata": {
    "scrolled": true
   },
   "outputs": [
    {
     "data": {
      "text/plain": [
       "(0.5153937187464062, 0.9966104120698255)"
      ]
     },
     "execution_count": 76,
     "metadata": {},
     "output_type": "execute_result"
    }
   ],
   "source": [
    "from sklearn.tree import DecisionTreeRegressor\n",
    "model2 = DecisionTreeRegressor()\n",
    "get_score(model2,x_tr,x_te,y_tr,y_te)"
   ]
  },
  {
   "cell_type": "code",
   "execution_count": 77,
   "id": "9a5c7f78",
   "metadata": {},
   "outputs": [
    {
     "data": {
      "text/plain": [
       "(0.7404081832252027, 0.9655584218081108)"
      ]
     },
     "execution_count": 77,
     "metadata": {},
     "output_type": "execute_result"
    }
   ],
   "source": [
    "from sklearn.ensemble import RandomForestRegressor\n",
    "model3 = RandomForestRegressor()\n",
    "get_score(model3,x_tr,x_te,y_tr,y_te)"
   ]
  },
  {
   "cell_type": "code",
   "execution_count": null,
   "id": "b17c884f",
   "metadata": {},
   "outputs": [],
   "source": [
    "\n",
    "\n"
   ]
  },
  {
   "cell_type": "code",
   "execution_count": null,
   "id": "445d7caa",
   "metadata": {},
   "outputs": [],
   "source": []
  },
  {
   "cell_type": "code",
   "execution_count": 78,
   "id": "a675438a",
   "metadata": {},
   "outputs": [
    {
     "data": {
      "text/html": [
       "<div>\n",
       "<style scoped>\n",
       "    .dataframe tbody tr th:only-of-type {\n",
       "        vertical-align: middle;\n",
       "    }\n",
       "\n",
       "    .dataframe tbody tr th {\n",
       "        vertical-align: top;\n",
       "    }\n",
       "\n",
       "    .dataframe thead th {\n",
       "        text-align: right;\n",
       "    }\n",
       "</style>\n",
       "<table border=\"1\" class=\"dataframe\">\n",
       "  <thead>\n",
       "    <tr style=\"text-align: right;\">\n",
       "      <th></th>\n",
       "      <th>Long layover</th>\n",
       "      <th>Short layover</th>\n",
       "      <th>Long layover</th>\n",
       "      <th>Business class</th>\n",
       "      <th>Change airports</th>\n",
       "      <th>In-flight meal not included</th>\n",
       "      <th>No Info</th>\n",
       "      <th>No check-in baggage included</th>\n",
       "      <th>No info</th>\n",
       "      <th>Red-eye flight</th>\n",
       "      <th>...</th>\n",
       "      <th>Route_1</th>\n",
       "      <th>Route_2</th>\n",
       "      <th>Route_3</th>\n",
       "      <th>Route_4</th>\n",
       "      <th>Route_5</th>\n",
       "      <th>Dep_Time_Hr</th>\n",
       "      <th>Dep_Time_Min</th>\n",
       "      <th>Arrival_Time_Hr</th>\n",
       "      <th>Arrival_Time_Min</th>\n",
       "      <th>transform</th>\n",
       "    </tr>\n",
       "  </thead>\n",
       "  <tbody>\n",
       "    <tr>\n",
       "      <th>0</th>\n",
       "      <td>0.0</td>\n",
       "      <td>0.0</td>\n",
       "      <td>0.0</td>\n",
       "      <td>0.0</td>\n",
       "      <td>0.0</td>\n",
       "      <td>0.0</td>\n",
       "      <td>0.0</td>\n",
       "      <td>0.0</td>\n",
       "      <td>1.0</td>\n",
       "      <td>0.0</td>\n",
       "      <td>...</td>\n",
       "      <td>13.0</td>\n",
       "      <td>29.0</td>\n",
       "      <td>13.0</td>\n",
       "      <td>5.0</td>\n",
       "      <td>1.0</td>\n",
       "      <td>22.0</td>\n",
       "      <td>20.0</td>\n",
       "      <td>1.0</td>\n",
       "      <td>10.0</td>\n",
       "      <td>6.761332</td>\n",
       "    </tr>\n",
       "    <tr>\n",
       "      <th>1</th>\n",
       "      <td>0.0</td>\n",
       "      <td>0.0</td>\n",
       "      <td>0.0</td>\n",
       "      <td>0.0</td>\n",
       "      <td>0.0</td>\n",
       "      <td>0.0</td>\n",
       "      <td>0.0</td>\n",
       "      <td>0.0</td>\n",
       "      <td>1.0</td>\n",
       "      <td>0.0</td>\n",
       "      <td>...</td>\n",
       "      <td>25.0</td>\n",
       "      <td>1.0</td>\n",
       "      <td>3.0</td>\n",
       "      <td>5.0</td>\n",
       "      <td>1.0</td>\n",
       "      <td>5.0</td>\n",
       "      <td>50.0</td>\n",
       "      <td>13.0</td>\n",
       "      <td>15.0</td>\n",
       "      <td>8.474254</td>\n",
       "    </tr>\n",
       "    <tr>\n",
       "      <th>2</th>\n",
       "      <td>0.0</td>\n",
       "      <td>0.0</td>\n",
       "      <td>0.0</td>\n",
       "      <td>0.0</td>\n",
       "      <td>0.0</td>\n",
       "      <td>0.0</td>\n",
       "      <td>0.0</td>\n",
       "      <td>0.0</td>\n",
       "      <td>1.0</td>\n",
       "      <td>0.0</td>\n",
       "      <td>...</td>\n",
       "      <td>32.0</td>\n",
       "      <td>4.0</td>\n",
       "      <td>5.0</td>\n",
       "      <td>5.0</td>\n",
       "      <td>1.0</td>\n",
       "      <td>9.0</td>\n",
       "      <td>25.0</td>\n",
       "      <td>4.0</td>\n",
       "      <td>25.0</td>\n",
       "      <td>10.320455</td>\n",
       "    </tr>\n",
       "    <tr>\n",
       "      <th>3</th>\n",
       "      <td>0.0</td>\n",
       "      <td>0.0</td>\n",
       "      <td>0.0</td>\n",
       "      <td>0.0</td>\n",
       "      <td>0.0</td>\n",
       "      <td>0.0</td>\n",
       "      <td>0.0</td>\n",
       "      <td>0.0</td>\n",
       "      <td>1.0</td>\n",
       "      <td>0.0</td>\n",
       "      <td>...</td>\n",
       "      <td>34.0</td>\n",
       "      <td>3.0</td>\n",
       "      <td>13.0</td>\n",
       "      <td>5.0</td>\n",
       "      <td>1.0</td>\n",
       "      <td>18.0</td>\n",
       "      <td>5.0</td>\n",
       "      <td>23.0</td>\n",
       "      <td>30.0</td>\n",
       "      <td>7.896170</td>\n",
       "    </tr>\n",
       "    <tr>\n",
       "      <th>4</th>\n",
       "      <td>0.0</td>\n",
       "      <td>0.0</td>\n",
       "      <td>0.0</td>\n",
       "      <td>0.0</td>\n",
       "      <td>0.0</td>\n",
       "      <td>0.0</td>\n",
       "      <td>0.0</td>\n",
       "      <td>0.0</td>\n",
       "      <td>1.0</td>\n",
       "      <td>0.0</td>\n",
       "      <td>...</td>\n",
       "      <td>34.0</td>\n",
       "      <td>8.0</td>\n",
       "      <td>13.0</td>\n",
       "      <td>5.0</td>\n",
       "      <td>1.0</td>\n",
       "      <td>16.0</td>\n",
       "      <td>50.0</td>\n",
       "      <td>21.0</td>\n",
       "      <td>35.0</td>\n",
       "      <td>7.660036</td>\n",
       "    </tr>\n",
       "  </tbody>\n",
       "</table>\n",
       "<p>5 rows × 31 columns</p>\n",
       "</div>"
      ],
      "text/plain": [
       "   Long layover  Short layover  Long layover  Business class  Change airports  \\\n",
       "0           0.0            0.0           0.0             0.0              0.0   \n",
       "1           0.0            0.0           0.0             0.0              0.0   \n",
       "2           0.0            0.0           0.0             0.0              0.0   \n",
       "3           0.0            0.0           0.0             0.0              0.0   \n",
       "4           0.0            0.0           0.0             0.0              0.0   \n",
       "\n",
       "   In-flight meal not included  No Info  No check-in baggage included  \\\n",
       "0                          0.0      0.0                           0.0   \n",
       "1                          0.0      0.0                           0.0   \n",
       "2                          0.0      0.0                           0.0   \n",
       "3                          0.0      0.0                           0.0   \n",
       "4                          0.0      0.0                           0.0   \n",
       "\n",
       "   No info  Red-eye flight  ...  Route_1  Route_2  Route_3  Route_4  Route_5  \\\n",
       "0      1.0             0.0  ...     13.0     29.0     13.0      5.0      1.0   \n",
       "1      1.0             0.0  ...     25.0      1.0      3.0      5.0      1.0   \n",
       "2      1.0             0.0  ...     32.0      4.0      5.0      5.0      1.0   \n",
       "3      1.0             0.0  ...     34.0      3.0     13.0      5.0      1.0   \n",
       "4      1.0             0.0  ...     34.0      8.0     13.0      5.0      1.0   \n",
       "\n",
       "   Dep_Time_Hr  Dep_Time_Min  Arrival_Time_Hr  Arrival_Time_Min  transform  \n",
       "0         22.0          20.0              1.0              10.0   6.761332  \n",
       "1          5.0          50.0             13.0              15.0   8.474254  \n",
       "2          9.0          25.0              4.0              25.0  10.320455  \n",
       "3         18.0           5.0             23.0              30.0   7.896170  \n",
       "4         16.0          50.0             21.0              35.0   7.660036  \n",
       "\n",
       "[5 rows x 31 columns]"
      ]
     },
     "execution_count": 78,
     "metadata": {},
     "output_type": "execute_result"
    }
   ],
   "source": [
    "df.head()"
   ]
  },
  {
   "cell_type": "code",
   "execution_count": null,
   "id": "b076ee5c",
   "metadata": {},
   "outputs": [],
   "source": []
  },
  {
   "cell_type": "code",
   "execution_count": 79,
   "id": "6ac9c558",
   "metadata": {},
   "outputs": [
    {
     "data": {
      "text/plain": [
       "'from sklearn.preprocessing import RobustScaler\\nscaler = RobustScaler()\\nscaled_x_tr = scaler.fit_transform(x_tr)\\nscaled_x_te = scaler.transform(x_te)\\n'"
      ]
     },
     "execution_count": 79,
     "metadata": {},
     "output_type": "execute_result"
    }
   ],
   "source": [
    "## Final conclusion expriment \n",
    "x = df.drop(['Price'],axis=1)\n",
    "y = df['Price']\n",
    "from sklearn.model_selection import train_test_split\n",
    "x_tr,x_te,y_tr,y_te = train_test_split(x,y,test_size=0.3,random_state=10)\n",
    "from sklearn.cluster import KMeans\n",
    "kmean = KMeans()\n",
    "kmean.fit(x_tr)\n",
    "x_tr['cluster'] = kmean.predict(x_tr)\n",
    "x_te['cluster'] = kmean.predict(x_te)\n",
    "\"\"\"from sklearn.preprocessing import RobustScaler\n",
    "scaler = RobustScaler()\n",
    "scaled_x_tr = scaler.fit_transform(x_tr)\n",
    "scaled_x_te = scaler.transform(x_te)\n",
    "\"\"\""
   ]
  },
  {
   "cell_type": "code",
   "execution_count": 57,
   "id": "76eae741",
   "metadata": {},
   "outputs": [],
   "source": [
    "def get_score(model,x_tr,x_te,y_tr,y_te):\n",
    "    \n",
    "    model.fit(x_tr,y_tr)\n",
    "    y_tr_pre = model.predict(x_tr)\n",
    "    r2_score_tr = r2_score(y_true=y_tr,y_pred=y_tr_pre)\n",
    "    y_te_pre = model.predict(x_te)\n",
    "    r2_score_te = r2_score(y_true=y_te,y_pred=y_te_pre)\n",
    "    return r2_score_te,r2_score_tr"
   ]
  },
  {
   "cell_type": "code",
   "execution_count": 81,
   "id": "4d7551f2",
   "metadata": {},
   "outputs": [
    {
     "data": {
      "text/plain": [
       "(0.15191753962921561, 0.1277678170446085)"
      ]
     },
     "execution_count": 81,
     "metadata": {},
     "output_type": "execute_result"
    }
   ],
   "source": [
    "from sklearn.svm import SVR\n",
    "from sklearn.metrics import r2_score\n",
    "model1 = SVR()\n",
    "get_score(model1,x_tr,x_te,y_tr,y_te)"
   ]
  },
  {
   "cell_type": "code",
   "execution_count": 82,
   "id": "a54877ee",
   "metadata": {
    "scrolled": true
   },
   "outputs": [
    {
     "data": {
      "text/plain": [
       "(0.7548097039062942, 0.9966104120698255)"
      ]
     },
     "execution_count": 82,
     "metadata": {},
     "output_type": "execute_result"
    }
   ],
   "source": [
    "from sklearn.tree import DecisionTreeRegressor\n",
    "model2 = DecisionTreeRegressor()\n",
    "get_score(model2,x_tr,x_te,y_tr,y_te)"
   ]
  },
  {
   "cell_type": "code",
   "execution_count": 83,
   "id": "a58963c2",
   "metadata": {},
   "outputs": [
    {
     "data": {
      "text/plain": [
       "(0.8632966593763431, 0.9815530381995564)"
      ]
     },
     "execution_count": 83,
     "metadata": {},
     "output_type": "execute_result"
    }
   ],
   "source": [
    "from sklearn.ensemble import RandomForestRegressor\n",
    "model3 = RandomForestRegressor()\n",
    "get_score(model3,x_tr,x_te,y_tr,y_te)"
   ]
  },
  {
   "cell_type": "code",
   "execution_count": 84,
   "id": "3de9cb6c",
   "metadata": {},
   "outputs": [],
   "source": [
    "from sklearn.model_selection import GridSearchCV\n",
    "def get_best_estimator(param,model,x_tr,x_te,y_tr,y_te):\n",
    "    grid = GridSearchCV(model,param_grid=param,cv=5)\n",
    "    grid.fit(x_tr,y_tr)\n",
    "    return get_score(grid.best_estimator_,x_tr,x_te,y_tr,y_te), grid.best_params_"
   ]
  },
  {
   "cell_type": "code",
   "execution_count": 85,
   "id": "0973a556",
   "metadata": {},
   "outputs": [],
   "source": [
    "param_Dc = {\n",
    "    'max_depth':[5,10,20,50,100,None],\n",
    "    'min_samples_split':[2,3,5,10,15,20],\n",
    "    'min_samples_leaf':[2,3,5,10,15,20]\n",
    "}\n",
    "param_Rf =  {\n",
    "    'n_estimators':[80,90,100,120,150],\n",
    "    'max_depth':[5,10,20,50,100,None],\n",
    "    'min_samples_split':[2,3,5,10,15],\n",
    "    #'min_samples_leaf':[2,3,5,10,15,20]\n",
    "}"
   ]
  },
  {
   "cell_type": "code",
   "execution_count": 86,
   "id": "417ebce2",
   "metadata": {},
   "outputs": [
    {
     "data": {
      "text/plain": [
       "((0.8060860457766865, 0.9485119119677756),\n",
       " {'max_depth': None, 'min_samples_leaf': 2, 'min_samples_split': 10})"
      ]
     },
     "execution_count": 86,
     "metadata": {},
     "output_type": "execute_result"
    }
   ],
   "source": [
    "get_best_estimator(param_Dc,model2,x_tr,x_te,y_tr,y_te)"
   ]
  },
  {
   "cell_type": "code",
   "execution_count": 87,
   "id": "5761b66a",
   "metadata": {},
   "outputs": [
    {
     "data": {
      "text/plain": [
       "((0.8620269724212781, 0.9796858609488328),\n",
       " {'max_depth': 50, 'min_samples_split': 2, 'n_estimators': 100})"
      ]
     },
     "execution_count": 87,
     "metadata": {},
     "output_type": "execute_result"
    }
   ],
   "source": [
    "get_best_estimator(param_Rf,model3,x_tr,x_te,y_tr,y_te)"
   ]
  },
  {
   "cell_type": "code",
   "execution_count": null,
   "id": "9a8c560c",
   "metadata": {},
   "outputs": [],
   "source": []
  },
  {
   "cell_type": "code",
   "execution_count": 92,
   "id": "427e65d4",
   "metadata": {},
   "outputs": [],
   "source": [
    "d = data['Route'].isnull().sum()"
   ]
  },
  {
   "cell_type": "code",
   "execution_count": 93,
   "id": "10ffc4be",
   "metadata": {},
   "outputs": [
    {
     "data": {
      "text/plain": [
       "numpy.int64"
      ]
     },
     "execution_count": 93,
     "metadata": {},
     "output_type": "execute_result"
    }
   ],
   "source": [
    "type(d)"
   ]
  },
  {
   "cell_type": "code",
   "execution_count": 95,
   "id": "aca35f9d",
   "metadata": {},
   "outputs": [
    {
     "name": "stdout",
     "output_type": "stream",
     "text": [
      "0\n"
     ]
    }
   ],
   "source": [
    "print(d)"
   ]
  },
  {
   "cell_type": "code",
   "execution_count": 58,
   "id": "70d92b12",
   "metadata": {},
   "outputs": [],
   "source": [
    "from xgboost import XGBRegressor\n"
   ]
  },
  {
   "cell_type": "code",
   "execution_count": 59,
   "id": "1eebe68d",
   "metadata": {},
   "outputs": [],
   "source": [
    "xgb = XGBRegressor()"
   ]
  },
  {
   "cell_type": "code",
   "execution_count": null,
   "id": "9830677c",
   "metadata": {},
   "outputs": [],
   "source": []
  },
  {
   "cell_type": "code",
   "execution_count": 60,
   "id": "00998174",
   "metadata": {},
   "outputs": [
    {
     "data": {
      "text/plain": [
       "XGBRegressor(base_score=0.5, booster='gbtree', callbacks=None,\n",
       "             colsample_bylevel=1, colsample_bynode=1, colsample_bytree=1,\n",
       "             early_stopping_rounds=None, enable_categorical=False,\n",
       "             eval_metric=None, feature_types=None, gamma=0, gpu_id=-1,\n",
       "             grow_policy='depthwise', importance_type=None,\n",
       "             interaction_constraints='', learning_rate=0.300000012, max_bin=256,\n",
       "             max_cat_threshold=64, max_cat_to_onehot=4, max_delta_step=0,\n",
       "             max_depth=6, max_leaves=0, min_child_weight=1, missing=nan,\n",
       "             monotone_constraints='()', n_estimators=100, n_jobs=0,\n",
       "             num_parallel_tree=1, predictor='auto', random_state=0, ...)"
      ]
     },
     "execution_count": 60,
     "metadata": {},
     "output_type": "execute_result"
    }
   ],
   "source": [
    "xgb.fit(x_tr,y_tr)"
   ]
  },
  {
   "cell_type": "code",
   "execution_count": 61,
   "id": "fadb9b11",
   "metadata": {},
   "outputs": [],
   "source": [
    "from sklearn.metrics import r2_score"
   ]
  },
  {
   "cell_type": "code",
   "execution_count": 63,
   "id": "c5e04262",
   "metadata": {},
   "outputs": [
    {
     "name": "stdout",
     "output_type": "stream",
     "text": [
      "0.8896315258015584 0.9797654280650235\n"
     ]
    }
   ],
   "source": [
    "xgb.fit(x_tr,y_tr)\n",
    "y_tr_pre = xgb.predict(x_tr)\n",
    "r2_score_tr = r2_score(y_true=y_tr,y_pred=y_tr_pre)\n",
    "y_te_pre = xgb.predict(x_te)\n",
    "r2_score_te = r2_score(y_true=y_te,y_pred=y_te_pre)\n",
    "print(r2_score_te,r2_score_tr)"
   ]
  },
  {
   "cell_type": "code",
   "execution_count": 64,
   "id": "16d3420b",
   "metadata": {},
   "outputs": [],
   "source": [
    "def get_score(model,x_tr,x_te,y_tr,y_te):\n",
    "    \n",
    "    model.fit(x_tr,y_tr)\n",
    "    y_tr_pre = model.predict(x_tr)\n",
    "    r2_score_tr = r2_score(y_true=y_tr,y_pred=y_tr_pre)\n",
    "    y_te_pre = model.predict(x_te)\n",
    "    r2_score_te = r2_score(y_true=y_te,y_pred=y_te_pre)\n",
    "    return r2_score_te,r2_score_tr\n",
    "from sklearn.model_selection import GridSearchCV\n",
    "def get_best_estimator(param,model,x_tr,x_te,y_tr,y_te):\n",
    "    grid = GridSearchCV(model,param_grid=param,cv=5)\n",
    "    grid.fit(x_tr,y_tr)\n",
    "    return get_score(grid.best_estimator_,x_tr,x_te,y_tr,y_te), grid.best_params_"
   ]
  },
  {
   "cell_type": "code",
   "execution_count": 65,
   "id": "9807d404",
   "metadata": {},
   "outputs": [],
   "source": [
    "xgb_param = {\n",
    "    'n_estimators' : [50,100,150,200],\n",
    "    'max_depth' : [10,30,90,None],\n",
    "    'eta' : [0.001,0.01,0.1,1],\n",
    "    'subsample' : [0.001,0.01,0.7,1]\n",
    "}"
   ]
  },
  {
   "cell_type": "code",
   "execution_count": 68,
   "id": "f97e0695",
   "metadata": {},
   "outputs": [
    {
     "data": {
      "text/plain": [
       "((0.8795069855592758, 0.976370170553241),\n",
       " {'eta': 0.001, 'max_depth': None, 'n_estimators': 100, 'subsample': 1})"
      ]
     },
     "execution_count": 68,
     "metadata": {},
     "output_type": "execute_result"
    }
   ],
   "source": [
    "get_best_estimator(xgb_param,xgb,x_tr,x_te,y_tr,y_te)"
   ]
  },
  {
   "cell_type": "code",
   "execution_count": 69,
   "id": "2c3813ea",
   "metadata": {},
   "outputs": [
    {
     "data": {
      "text/plain": [
       "[<matplotlib.lines.Line2D at 0x1ee25bd6100>]"
      ]
     },
     "execution_count": 69,
     "metadata": {},
     "output_type": "execute_result"
    },
    {
     "data": {
      "image/png": "[encoded data removed]",
      "text/plain": [
       "<Figure size 640x480 with 1 Axes>"
      ]
     },
     "metadata": {},
     "output_type": "display_data"
    }
   ],
   "source": [
    "x = df.drop(['Price','Duration'],axis=1)\n",
    "y = df['Price']\n",
    "from sklearn.model_selection import train_test_split\n",
    "x_tr,x_te,y_tr,y_te = train_test_split(x,y,test_size=0.3,random_state=10)\n",
    "from sklearn.cluster import KMeans\n",
    "kmean = KMeans()\n",
    "kmean.fit(x_tr)\n",
    "x_tr['cluster'] = kmean.predict(x_tr)\n",
    "x_te['cluster'] = kmean.predict(x_te)\n",
    "from sklearn.preprocessing import RobustScaler\n",
    "scaler =  RobustScaler()\n",
    "x_tr_scaled = scaler.fit_transform(x_tr)\n",
    "x_te_scaled = scaler.transform(x_te)\n",
    "from sklearn.decomposition import PCA\n",
    "pca = PCA(n_components=None)\n",
    "pca.fit_transform(x_tr_scaled)\n",
    "plt.plot(pca.explained_variance_ratio_)"
   ]
  },
  {
   "cell_type": "code",
   "execution_count": 70,
   "id": "0f16fae7",
   "metadata": {},
   "outputs": [],
   "source": [
    "pca = PCA(n_components=5)\n",
    "x_tr = pca.fit_transform(x_tr_scaled)\n",
    "x_te = pca.transform(x_te_scaled)"
   ]
  },
  {
   "cell_type": "code",
   "execution_count": 71,
   "id": "6a16b9bc",
   "metadata": {},
   "outputs": [
    {
     "name": "stdout",
     "output_type": "stream",
     "text": [
      "0.7434468551120068 0.9385630563875469\n"
     ]
    }
   ],
   "source": [
    "from sklearn.metrics import r2_score\n",
    "from xgboost import XGBRegressor\n",
    "xgb = XGBRegressor()\n",
    "xgb.fit(x_tr,y_tr)\n",
    "y_tr_pre = xgb.predict(x_tr)\n",
    "r2_score_tr = r2_score(y_true=y_tr,y_pred=y_tr_pre)\n",
    "y_te_pre = xgb.predict(x_te)\n",
    "r2_score_te = r2_score(y_true=y_te,y_pred=y_te_pre)\n",
    "print(r2_score_te,r2_score_tr)"
   ]
  },
  {
   "cell_type": "code",
   "execution_count": 72,
   "id": "cef175bd",
   "metadata": {},
   "outputs": [
    {
     "data": {
      "text/plain": [
       "((0.7434468551120068, 0.9385630563875469),\n",
       " {'eta': 0.001, 'max_depth': None, 'n_estimators': 100, 'subsample': 1})"
      ]
     },
     "execution_count": 72,
     "metadata": {},
     "output_type": "execute_result"
    }
   ],
   "source": [
    "xgb_param = {\n",
    "    'n_estimators' : [50,100,150,200],\n",
    "    'max_depth' : [10,30,90,None],\n",
    "    'eta' : [0.001,0.01,0.1,1],\n",
    "    'subsample' : [0.001,0.01,0.7,1]\n",
    "}\n",
    "get_best_estimator(xgb_param,xgb,x_tr,x_te,y_tr,y_te)"
   ]
  },
  {
   "cell_type": "code",
   "execution_count": 113,
   "id": "a3ff8cf6",
   "metadata": {},
   "outputs": [
    {
     "data": {
      "text/plain": [
       "0        2 50\n",
       "1        7 25\n",
       "2          19\n",
       "3        5 25\n",
       "4        4 45\n",
       "         ... \n",
       "10678    2 30\n",
       "10679    2 35\n",
       "10680       3\n",
       "10681    2 40\n",
       "10682    8 20\n",
       "Name: Duration, Length: 10683, dtype: object"
      ]
     },
     "execution_count": 113,
     "metadata": {},
     "output_type": "execute_result"
    }
   ],
   "source": [
    "data['Duration'] = data['Duration'].apply(lambda x:x.replace('m','').replace('h',''))\n",
    "data['Duration']"
   ]
  },
  {
   "cell_type": "code",
   "execution_count": null,
   "id": "8f2597fd",
   "metadata": {},
   "outputs": [],
   "source": []
  }
 ],
 "metadata": {
  "kernelspec": {
   "display_name": "Python 3 (ipykernel)",
   "language": "python",
   "name": "python3"
  },
  "language_info": {
   "codemirror_mode": {
    "name": "ipython",
    "version": 3
   },
   "file_extension": ".py",
   "mimetype": "text/x-python",
   "name": "python",
   "nbconvert_exporter": "python",
   "pygments_lexer": "ipython3",
   "version": "3.9.13"
  }
 },
 "nbformat": 4,
 "nbformat_minor": 5
}
